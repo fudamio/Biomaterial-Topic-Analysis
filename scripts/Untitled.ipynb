{
 "cells": [
  {
   "cell_type": "code",
   "execution_count": 1,
   "metadata": {},
   "outputs": [],
   "source": [
    "import pandas as pd"
   ]
  },
  {
   "cell_type": "code",
   "execution_count": 3,
   "metadata": {},
   "outputs": [
    {
     "name": "stderr",
     "output_type": "stream",
     "text": [
      "C:\\Users\\lin\\Anaconda3\\lib\\site-packages\\IPython\\core\\interactiveshell.py:2785: DtypeWarning: Columns (2,6,56,65,66) have mixed types. Specify dtype option on import or set low_memory=False.\n",
      "  interactivity=interactivity, compiler=compiler, result=result)\n"
     ]
    }
   ],
   "source": [
    "df = pd.read_csv('../data/raw_data/all.csv')"
   ]
  },
  {
   "cell_type": "code",
   "execution_count": 8,
   "metadata": {},
   "outputs": [
    {
     "data": {
      "text/plain": [
       "Article                             34249\n",
       "Review                               4785\n",
       "Proceedings Paper                    2744\n",
       "Article; Proceedings Paper           2154\n",
       "Meeting Abstract                     1069\n",
       "Editorial Material                    645\n",
       "News Item                             170\n",
       "Article; Book Chapter                  92\n",
       "Review; Book Chapter                   85\n",
       "Letter                                 62\n",
       "Correction                             41\n",
       "Note                                   30\n",
       "Article; Retracted Publication         12\n",
       "Biographical-Item                       6\n",
       "Editorial Material; Book Chapter        5\n",
       "Discussion                              4\n",
       "Book Review                             4\n",
       "Reprint                                 3\n",
       "Correction, Addition                    3\n",
       "Review; Retracted Publication           2\n",
       "Article; Early Access                   2\n",
       "Bibliography                            2\n",
       "Item About an Individual                1\n",
       "Software Review                         1\n",
       "Name: DT, dtype: int64"
      ]
     },
     "execution_count": 8,
     "metadata": {},
     "output_type": "execute_result"
    }
   ],
   "source": [
    "df['DT'].value_counts()"
   ]
  },
  {
   "cell_type": "code",
   "execution_count": null,
   "metadata": {},
   "outputs": [],
   "source": []
  }
 ],
 "metadata": {
  "kernelspec": {
   "display_name": "Python 3",
   "language": "python",
   "name": "python3"
  },
  "language_info": {
   "codemirror_mode": {
    "name": "ipython",
    "version": 3
   },
   "file_extension": ".py",
   "mimetype": "text/x-python",
   "name": "python",
   "nbconvert_exporter": "python",
   "pygments_lexer": "ipython3",
   "version": "3.5.4"
  }
 },
 "nbformat": 4,
 "nbformat_minor": 2
}
