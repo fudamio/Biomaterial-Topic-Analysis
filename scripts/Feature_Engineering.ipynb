{
 "cells": [
  {
   "cell_type": "code",
   "execution_count": 1,
   "metadata": {},
   "outputs": [],
   "source": [
    "import pandas as pd\n",
    "import numpy as np"
   ]
  },
  {
   "cell_type": "code",
   "execution_count": 2,
   "metadata": {},
   "outputs": [],
   "source": [
    "data = pd.read_csv('topic_modeling.csv')"
   ]
  },
  {
   "cell_type": "code",
   "execution_count": 3,
   "metadata": {},
   "outputs": [
    {
     "data": {
      "text/html": [
       "<div>\n",
       "<style scoped>\n",
       "    .dataframe tbody tr th:only-of-type {\n",
       "        vertical-align: middle;\n",
       "    }\n",
       "\n",
       "    .dataframe tbody tr th {\n",
       "        vertical-align: top;\n",
       "    }\n",
       "\n",
       "    .dataframe thead th {\n",
       "        text-align: right;\n",
       "    }\n",
       "</style>\n",
       "<table border=\"1\" class=\"dataframe\">\n",
       "  <thead>\n",
       "    <tr style=\"text-align: right;\">\n",
       "      <th></th>\n",
       "      <th>Cluster_Topic</th>\n",
       "      <th>PY</th>\n",
       "      <th>Topic_Year</th>\n",
       "      <th>PT</th>\n",
       "      <th>AF</th>\n",
       "      <th>PU</th>\n",
       "      <th>FU</th>\n",
       "      <th>PA</th>\n",
       "      <th>PG</th>\n",
       "    </tr>\n",
       "  </thead>\n",
       "  <tbody>\n",
       "    <tr>\n",
       "      <th>0</th>\n",
       "      <td>6</td>\n",
       "      <td>2009</td>\n",
       "      <td>6_2009</td>\n",
       "      <td>J</td>\n",
       "      <td>DeWit, Matthew A.; Gillies, Elizabeth R.</td>\n",
       "      <td>AMER CHEMICAL SOC</td>\n",
       "      <td>Natural Sciences and Engineering Council of Ca...</td>\n",
       "      <td>1155 16TH ST, NW, WASHINGTON, DC 20036 USA</td>\n",
       "      <td>8</td>\n",
       "    </tr>\n",
       "    <tr>\n",
       "      <th>1</th>\n",
       "      <td>2</td>\n",
       "      <td>2009</td>\n",
       "      <td>2_2009</td>\n",
       "      <td>J</td>\n",
       "      <td>Zhang, Huigang; Zhu, Qingshan</td>\n",
       "      <td>WORLD SCIENTIFIC PUBL CO PTE LTD</td>\n",
       "      <td>NaN</td>\n",
       "      <td>5 TOH TUCK LINK, SINGAPORE 596224, SINGAPORE</td>\n",
       "      <td>10</td>\n",
       "    </tr>\n",
       "    <tr>\n",
       "      <th>2</th>\n",
       "      <td>5</td>\n",
       "      <td>2009</td>\n",
       "      <td>5_2009</td>\n",
       "      <td>J</td>\n",
       "      <td>Yoshida, Mutsumi; Roh, Kyung-Ho; Mandal, Supar...</td>\n",
       "      <td>WILEY-V C H VERLAG GMBH</td>\n",
       "      <td>NaN</td>\n",
       "      <td>POSTFACH 101161, 69451 WEINHEIM, GERMANY</td>\n",
       "      <td>7</td>\n",
       "    </tr>\n",
       "    <tr>\n",
       "      <th>3</th>\n",
       "      <td>9</td>\n",
       "      <td>2009</td>\n",
       "      <td>9_2009</td>\n",
       "      <td>J</td>\n",
       "      <td>Tsou, Hsi-Kai; Hsieh, Ping-Yen; Chung, Chi-Jen...</td>\n",
       "      <td>ELSEVIER SCIENCE SA</td>\n",
       "      <td>NaN</td>\n",
       "      <td>PO BOX 564, 1001 LAUSANNE, SWITZERLAND</td>\n",
       "      <td>5</td>\n",
       "    </tr>\n",
       "    <tr>\n",
       "      <th>4</th>\n",
       "      <td>13</td>\n",
       "      <td>2009</td>\n",
       "      <td>13_2009</td>\n",
       "      <td>J</td>\n",
       "      <td>Doshi, Nishit; Mitragotri, Samir</td>\n",
       "      <td>WILEY-V C H VERLAG GMBH</td>\n",
       "      <td>National Institute of Health [1U01HL080718]</td>\n",
       "      <td>PO BOX 10 11 61, D-69451 WEINHEIM, GERMANY</td>\n",
       "      <td>12</td>\n",
       "    </tr>\n",
       "  </tbody>\n",
       "</table>\n",
       "</div>"
      ],
      "text/plain": [
       "   Cluster_Topic    PY Topic_Year PT  \\\n",
       "0              6  2009     6_2009  J   \n",
       "1              2  2009     2_2009  J   \n",
       "2              5  2009     5_2009  J   \n",
       "3              9  2009     9_2009  J   \n",
       "4             13  2009    13_2009  J   \n",
       "\n",
       "                                                  AF  \\\n",
       "0           DeWit, Matthew A.; Gillies, Elizabeth R.   \n",
       "1                      Zhang, Huigang; Zhu, Qingshan   \n",
       "2  Yoshida, Mutsumi; Roh, Kyung-Ho; Mandal, Supar...   \n",
       "3  Tsou, Hsi-Kai; Hsieh, Ping-Yen; Chung, Chi-Jen...   \n",
       "4                   Doshi, Nishit; Mitragotri, Samir   \n",
       "\n",
       "                                 PU  \\\n",
       "0                 AMER CHEMICAL SOC   \n",
       "1  WORLD SCIENTIFIC PUBL CO PTE LTD   \n",
       "2           WILEY-V C H VERLAG GMBH   \n",
       "3               ELSEVIER SCIENCE SA   \n",
       "4           WILEY-V C H VERLAG GMBH   \n",
       "\n",
       "                                                  FU  \\\n",
       "0  Natural Sciences and Engineering Council of Ca...   \n",
       "1                                                NaN   \n",
       "2                                                NaN   \n",
       "3                                                NaN   \n",
       "4        National Institute of Health [1U01HL080718]   \n",
       "\n",
       "                                             PA  PG  \n",
       "0    1155 16TH ST, NW, WASHINGTON, DC 20036 USA   8  \n",
       "1  5 TOH TUCK LINK, SINGAPORE 596224, SINGAPORE  10  \n",
       "2      POSTFACH 101161, 69451 WEINHEIM, GERMANY   7  \n",
       "3        PO BOX 564, 1001 LAUSANNE, SWITZERLAND   5  \n",
       "4    PO BOX 10 11 61, D-69451 WEINHEIM, GERMANY  12  "
      ]
     },
     "execution_count": 3,
     "metadata": {},
     "output_type": "execute_result"
    }
   ],
   "source": [
    "data.head()"
   ]
  },
  {
   "cell_type": "code",
   "execution_count": 4,
   "metadata": {},
   "outputs": [
    {
     "data": {
      "text/plain": [
       "Cluster_Topic        0\n",
       "PY                   0\n",
       "Topic_Year           0\n",
       "PT                   0\n",
       "AF                   2\n",
       "PU                   1\n",
       "FU               19669\n",
       "PA                   1\n",
       "PG                   0\n",
       "dtype: int64"
      ]
     },
     "execution_count": 4,
     "metadata": {},
     "output_type": "execute_result"
    }
   ],
   "source": [
    "data.isnull().sum()"
   ]
  },
  {
   "cell_type": "markdown",
   "metadata": {},
   "source": [
    "# Top authors in each year\n",
    "- For each year, extract the top authors who contributed the most in the top list in terms of the number of publications in previous years.\n",
    "- For instance, to find the top authors in 2013, we should consider top authors who published before 2013 rather than only 2013."
   ]
  },
  {
   "cell_type": "code",
   "execution_count": 5,
   "metadata": {},
   "outputs": [],
   "source": [
    "# Impute missing values in 'AF' column.\n",
    "data['AF'].fillna('NA author', inplace=True)"
   ]
  },
  {
   "cell_type": "code",
   "execution_count": 6,
   "metadata": {},
   "outputs": [],
   "source": [
    "data['All_authors'] = data.AF.str.split(';')"
   ]
  },
  {
   "cell_type": "code",
   "execution_count": 7,
   "metadata": {},
   "outputs": [
    {
     "data": {
      "text/plain": [
       "0          [DeWit, Matthew A.,  Gillies, Elizabeth R.]\n",
       "1                     [Zhang, Huigang,  Zhu, Qingshan]\n",
       "2    [Yoshida, Mutsumi,  Roh, Kyung-Ho,  Mandal, Su...\n",
       "3    [Tsou, Hsi-Kai,  Hsieh, Ping-Yen,  Chung, Chi-...\n",
       "4                  [Doshi, Nishit,  Mitragotri, Samir]\n",
       "Name: All_authors, dtype: object"
      ]
     },
     "execution_count": 7,
     "metadata": {},
     "output_type": "execute_result"
    }
   ],
   "source": [
    "data['All_authors'].head()"
   ]
  },
  {
   "cell_type": "code",
   "execution_count": 8,
   "metadata": {},
   "outputs": [
    {
     "data": {
      "text/plain": [
       "Cluster_Topic        0\n",
       "PY                   0\n",
       "Topic_Year           0\n",
       "PT                   0\n",
       "AF                   0\n",
       "PU                   1\n",
       "FU               19669\n",
       "PA                   1\n",
       "PG                   0\n",
       "All_authors          0\n",
       "dtype: int64"
      ]
     },
     "execution_count": 8,
     "metadata": {},
     "output_type": "execute_result"
    }
   ],
   "source": [
    "# Make sure no missing value in 'AF' and 'All_authors'.\n",
    "data.isnull().sum()"
   ]
  },
  {
   "cell_type": "code",
   "execution_count": 9,
   "metadata": {},
   "outputs": [],
   "source": [
    "def top_author_in_year(year,index,dataframe):\n",
    "    '''\n",
    "    year: a target year.\n",
    "    index: an index number to determine how many top authors should be extracted.\n",
    "    dataframe: data stored in a pandas frame.\n",
    "    Output: Return a list of top authors before a target year given an index number.\n",
    "    '''\n",
    "    \n",
    "    df = dataframe\n",
    "    grouped_df_in_year = df[df['PY'] <= year]\n",
    "    author_in_year = grouped_df_in_year['All_authors']\n",
    "    author_count_dic = {}\n",
    "    for authors in author_in_year:\n",
    "        for author in authors:\n",
    "            if author not in author_count_dic:\n",
    "                author_count_dic[author.strip().replace('.','')] = 1\n",
    "            else: \n",
    "                author_count_dic[author.strip().replace('.','')] += 1\n",
    "    sorted_author_count_dic = sorted(author_count_dic.items(), key=lambda kv: kv[1])[::-1]\n",
    "    top_authors = []\n",
    "    for i in range(index):\n",
    "        top_authors.append(sorted_author_count_dic[i][0])\n",
    "        \n",
    "    # Consider 'tied' authors.\n",
    "    for each in sorted_author_count_dic[index:]:\n",
    "        if each[1] == sorted_author_count_dic[index-1][1]:\n",
    "            top_authors.append(each[0])\n",
    "        \n",
    "    return top_authors"
   ]
  },
  {
   "cell_type": "code",
   "execution_count": 10,
   "metadata": {
    "scrolled": true
   },
   "outputs": [],
   "source": [
    "# Collect top authors in each year.\n",
    "year = []\n",
    "top_authors = []\n",
    "for i in range(2001, 2020):\n",
    "    year.append(i)\n",
    "    top_authors.append(top_author_in_year(year=i-1,index=10,dataframe=data))"
   ]
  },
  {
   "cell_type": "code",
   "execution_count": 11,
   "metadata": {},
   "outputs": [
    {
     "data": {
      "text/html": [
       "<div>\n",
       "<style scoped>\n",
       "    .dataframe tbody tr th:only-of-type {\n",
       "        vertical-align: middle;\n",
       "    }\n",
       "\n",
       "    .dataframe tbody tr th {\n",
       "        vertical-align: top;\n",
       "    }\n",
       "\n",
       "    .dataframe thead th {\n",
       "        text-align: right;\n",
       "    }\n",
       "</style>\n",
       "<table border=\"1\" class=\"dataframe\">\n",
       "  <thead>\n",
       "    <tr style=\"text-align: right;\">\n",
       "      <th></th>\n",
       "      <th>PY</th>\n",
       "      <th>top_authors_in_previous_yrs</th>\n",
       "    </tr>\n",
       "  </thead>\n",
       "  <tbody>\n",
       "    <tr>\n",
       "      <th>0</th>\n",
       "      <td>2001</td>\n",
       "      <td>[BRUCK, SD, [Anonymous], HEIMKE, G, DANIELS, A...</td>\n",
       "    </tr>\n",
       "    <tr>\n",
       "      <th>1</th>\n",
       "      <td>2002</td>\n",
       "      <td>[[Anonymous], BRUCK, SD, Bellon, JM, HEIMKE, G...</td>\n",
       "    </tr>\n",
       "    <tr>\n",
       "      <th>2</th>\n",
       "      <td>2003</td>\n",
       "      <td>[[Anonymous], BRUCK, SD, HEIMKE, G, DANIELS, A...</td>\n",
       "    </tr>\n",
       "    <tr>\n",
       "      <th>3</th>\n",
       "      <td>2004</td>\n",
       "      <td>[[Anonymous], BRUCK, SD, HEIMKE, G, DANIELS, A...</td>\n",
       "    </tr>\n",
       "    <tr>\n",
       "      <th>4</th>\n",
       "      <td>2005</td>\n",
       "      <td>[[Anonymous], BRUCK, SD, HEIMKE, G, DANIELS, A...</td>\n",
       "    </tr>\n",
       "  </tbody>\n",
       "</table>\n",
       "</div>"
      ],
      "text/plain": [
       "     PY                        top_authors_in_previous_yrs\n",
       "0  2001  [BRUCK, SD, [Anonymous], HEIMKE, G, DANIELS, A...\n",
       "1  2002  [[Anonymous], BRUCK, SD, Bellon, JM, HEIMKE, G...\n",
       "2  2003  [[Anonymous], BRUCK, SD, HEIMKE, G, DANIELS, A...\n",
       "3  2004  [[Anonymous], BRUCK, SD, HEIMKE, G, DANIELS, A...\n",
       "4  2005  [[Anonymous], BRUCK, SD, HEIMKE, G, DANIELS, A..."
      ]
     },
     "execution_count": 11,
     "metadata": {},
     "output_type": "execute_result"
    }
   ],
   "source": [
    "top_author_df = pd.DataFrame({'PY': year, 'top_authors_in_previous_yrs': top_authors})\n",
    "top_author_df.head()"
   ]
  },
  {
   "cell_type": "code",
   "execution_count": 12,
   "metadata": {},
   "outputs": [
    {
     "data": {
      "text/plain": [
       "min    2001.0\n",
       "max    2019.0\n",
       "Name: PY, dtype: float64"
      ]
     },
     "execution_count": 12,
     "metadata": {},
     "output_type": "execute_result"
    }
   ],
   "source": [
    "# Make sure collect all top authors from every year.\n",
    "top_author_df.PY.describe()[['min','max']]"
   ]
  },
  {
   "cell_type": "markdown",
   "metadata": {},
   "source": [
    "# Top publishers in each year\n",
    "- For each year, extract top publishers which published the most in the top list in terms of the number of publications in previous years."
   ]
  },
  {
   "cell_type": "code",
   "execution_count": 13,
   "metadata": {},
   "outputs": [],
   "source": [
    "# Impute missing values in 'PU' column.\n",
    "data['PU'].fillna('NA publisher', inplace=True)"
   ]
  },
  {
   "cell_type": "code",
   "execution_count": 14,
   "metadata": {},
   "outputs": [
    {
     "data": {
      "text/plain": [
       "0"
      ]
     },
     "execution_count": 14,
     "metadata": {},
     "output_type": "execute_result"
    }
   ],
   "source": [
    "# Make sure no missing data in 'PU'.\n",
    "data['PU'].isnull().sum()"
   ]
  },
  {
   "cell_type": "code",
   "execution_count": 15,
   "metadata": {},
   "outputs": [],
   "source": [
    "def top_publisher_in_year(year,index,dataframe):\n",
    "    '''\n",
    "    year: a target year.\n",
    "    index: an index number to determine how many top publishers should be extracted.\n",
    "    dataframe: data stored in a pandas frame.\n",
    "    Output: Return a list of top publishers before a target year given an index number.\n",
    "    '''\n",
    "    \n",
    "    df = dataframe\n",
    "    grouped_df_in_year = df[df['PY'] <= year]\n",
    "    publisher_in_year = grouped_df_in_year['PU']\n",
    "    publisher_count_dic = {}\n",
    "    for publisher in publisher_in_year:\n",
    "        if publisher not in publisher_count_dic:\n",
    "            publisher_count_dic[publisher] = 1\n",
    "        else: \n",
    "            publisher_count_dic[publisher] += 1\n",
    "    \n",
    "    sorted_publisher_count_dic = sorted(publisher_count_dic.items(), key=lambda kv: kv[1])[::-1]\n",
    "    top_publishers = []\n",
    "    for i in range(index):\n",
    "        top_publishers.append(sorted_publisher_count_dic[i][0])\n",
    "        \n",
    "    # Consider 'tied' authors.\n",
    "    for each in sorted_publisher_count_dic[index:]:\n",
    "        if each[1] == sorted_publisher_count_dic[index-1][1]:\n",
    "            top_publishers.append(each[0])\n",
    "        \n",
    "    return top_publishers"
   ]
  },
  {
   "cell_type": "code",
   "execution_count": 16,
   "metadata": {},
   "outputs": [],
   "source": [
    "# Collect top publishers in each year.\n",
    "year = []\n",
    "top_publishers = []\n",
    "for i in range(2001, 2020):\n",
    "    year.append(i)\n",
    "    top_publishers.append(top_publisher_in_year(year=i-1,index=10,dataframe=data))"
   ]
  },
  {
   "cell_type": "code",
   "execution_count": 17,
   "metadata": {},
   "outputs": [],
   "source": [
    "top_publisher_df = pd.DataFrame({'PY': year, 'top_publishers_in_previous_yrs': top_publishers})"
   ]
  },
  {
   "cell_type": "code",
   "execution_count": 18,
   "metadata": {},
   "outputs": [
    {
     "data": {
      "text/html": [
       "<div>\n",
       "<style scoped>\n",
       "    .dataframe tbody tr th:only-of-type {\n",
       "        vertical-align: middle;\n",
       "    }\n",
       "\n",
       "    .dataframe tbody tr th {\n",
       "        vertical-align: top;\n",
       "    }\n",
       "\n",
       "    .dataframe thead th {\n",
       "        text-align: right;\n",
       "    }\n",
       "</style>\n",
       "<table border=\"1\" class=\"dataframe\">\n",
       "  <thead>\n",
       "    <tr style=\"text-align: right;\">\n",
       "      <th></th>\n",
       "      <th>PY</th>\n",
       "      <th>top_publishers_in_previous_yrs</th>\n",
       "    </tr>\n",
       "  </thead>\n",
       "  <tbody>\n",
       "    <tr>\n",
       "      <th>0</th>\n",
       "      <td>2001</td>\n",
       "      <td>[JOHN WILEY &amp; SONS INC, ELSEVIER SCI LTD, AMER...</td>\n",
       "    </tr>\n",
       "    <tr>\n",
       "      <th>1</th>\n",
       "      <td>2002</td>\n",
       "      <td>[ELSEVIER SCI LTD, JOHN WILEY &amp; SONS INC, AMER...</td>\n",
       "    </tr>\n",
       "    <tr>\n",
       "      <th>2</th>\n",
       "      <td>2003</td>\n",
       "      <td>[ELSEVIER SCI LTD, JOHN WILEY &amp; SONS INC, AMER...</td>\n",
       "    </tr>\n",
       "    <tr>\n",
       "      <th>3</th>\n",
       "      <td>2004</td>\n",
       "      <td>[ELSEVIER SCI LTD, JOHN WILEY &amp; SONS INC, AMER...</td>\n",
       "    </tr>\n",
       "    <tr>\n",
       "      <th>4</th>\n",
       "      <td>2005</td>\n",
       "      <td>[ELSEVIER SCI LTD, JOHN WILEY &amp; SONS INC, AMER...</td>\n",
       "    </tr>\n",
       "  </tbody>\n",
       "</table>\n",
       "</div>"
      ],
      "text/plain": [
       "     PY                     top_publishers_in_previous_yrs\n",
       "0  2001  [JOHN WILEY & SONS INC, ELSEVIER SCI LTD, AMER...\n",
       "1  2002  [ELSEVIER SCI LTD, JOHN WILEY & SONS INC, AMER...\n",
       "2  2003  [ELSEVIER SCI LTD, JOHN WILEY & SONS INC, AMER...\n",
       "3  2004  [ELSEVIER SCI LTD, JOHN WILEY & SONS INC, AMER...\n",
       "4  2005  [ELSEVIER SCI LTD, JOHN WILEY & SONS INC, AMER..."
      ]
     },
     "execution_count": 18,
     "metadata": {},
     "output_type": "execute_result"
    }
   ],
   "source": [
    "top_publisher_df.head()"
   ]
  },
  {
   "cell_type": "code",
   "execution_count": 19,
   "metadata": {},
   "outputs": [
    {
     "data": {
      "text/plain": [
       "min    2001.0\n",
       "max    2019.0\n",
       "Name: PY, dtype: float64"
      ]
     },
     "execution_count": 19,
     "metadata": {},
     "output_type": "execute_result"
    }
   ],
   "source": [
    "# Make sure collect all top publishers from every year.\n",
    "top_publisher_df.PY.describe()[['min','max']]"
   ]
  },
  {
   "cell_type": "markdown",
   "metadata": {},
   "source": [
    "# Top funding agencies in each year\n",
    "- For each year, extract the top funding agencies which funded the most in the top list in terms of the number of publications in previous years."
   ]
  },
  {
   "cell_type": "code",
   "execution_count": 20,
   "metadata": {},
   "outputs": [],
   "source": [
    "# Impute missing values in 'AF' column.\n",
    "data['FU'].fillna('NA funding agency', inplace=True)"
   ]
  },
  {
   "cell_type": "code",
   "execution_count": 21,
   "metadata": {},
   "outputs": [],
   "source": [
    "data['All_funding_agencies'] = data.FU.str.split(';')"
   ]
  },
  {
   "cell_type": "code",
   "execution_count": 22,
   "metadata": {},
   "outputs": [
    {
     "data": {
      "text/plain": [
       "0    [Natural Sciences and Engineering Council of C...\n",
       "1                                  [NA funding agency]\n",
       "2                                  [NA funding agency]\n",
       "3                                  [NA funding agency]\n",
       "4        [National Institute of Health [1U01HL080718]]\n",
       "Name: All_funding_agencies, dtype: object"
      ]
     },
     "execution_count": 22,
     "metadata": {},
     "output_type": "execute_result"
    }
   ],
   "source": [
    "data['All_funding_agencies'].head()"
   ]
  },
  {
   "cell_type": "code",
   "execution_count": 23,
   "metadata": {},
   "outputs": [
    {
     "data": {
      "text/plain": [
       "Cluster_Topic           0\n",
       "PY                      0\n",
       "Topic_Year              0\n",
       "PT                      0\n",
       "AF                      0\n",
       "PU                      0\n",
       "FU                      0\n",
       "PA                      1\n",
       "PG                      0\n",
       "All_authors             0\n",
       "All_funding_agencies    0\n",
       "dtype: int64"
      ]
     },
     "execution_count": 23,
     "metadata": {},
     "output_type": "execute_result"
    }
   ],
   "source": [
    "# Make sure no missing data in 'FU' and 'All_funding_agencies'.\n",
    "data.isnull().sum()"
   ]
  },
  {
   "cell_type": "code",
   "execution_count": 24,
   "metadata": {},
   "outputs": [],
   "source": [
    "def top_funding_agency_in_year(year,index,dataframe):\n",
    "    '''\n",
    "    year: a target year.\n",
    "    index: an index number to determine how many top funding agencies should be extracted.\n",
    "    dataframe: data stored in a pandas frame.\n",
    "    Output: Return a list of top funding agencies before a target year given an index number.\n",
    "    '''\n",
    "    \n",
    "    df = dataframe\n",
    "    grouped_df_in_year = df[df['PY'] <= year]\n",
    "    funding_agency_in_year = grouped_df_in_year['All_funding_agencies']\n",
    "    funding_agency_count_dic = {}\n",
    "    \n",
    "    for funding_agencies in funding_agency_in_year:\n",
    "        for funding_agency in funding_agencies:\n",
    "            if funding_agency not in funding_agency_count_dic:\n",
    "                funding_agency_count_dic[funding_agency] = 1\n",
    "            else: \n",
    "                funding_agency_count_dic[funding_agency] += 1\n",
    "                \n",
    "    sorted_funding_agency_count_dic = sorted(funding_agency_count_dic.items(), key=lambda kv: kv[1])[::-1]\n",
    "    top_funding_agencies = []\n",
    "    \n",
    "    for i in range(index):\n",
    "        top_funding_agencies.append(sorted_funding_agency_count_dic[i][0])\n",
    "        \n",
    "    # Consider 'tied' authors.\n",
    "    for each in sorted_funding_agency_count_dic[index:]:\n",
    "        if each[1] == sorted_funding_agency_count_dic[index-1][1]:\n",
    "            top_funding_agencies.append(each[0])\n",
    "        \n",
    "    return top_funding_agencies"
   ]
  },
  {
   "cell_type": "code",
   "execution_count": 25,
   "metadata": {},
   "outputs": [],
   "source": [
    "# Collect top funding agencies in each year.\n",
    "year = []\n",
    "top_funding_agencies = []\n",
    "for i in range(2001, 2020):\n",
    "    year.append(i)\n",
    "    top_funding_agencies.append(top_funding_agency_in_year(year=i-1,index=10,dataframe=data))"
   ]
  },
  {
   "cell_type": "code",
   "execution_count": 26,
   "metadata": {},
   "outputs": [],
   "source": [
    "top_funding_agency_df = pd.DataFrame({'PY': year, 'top_funding_agency_in_previous_yrs': top_funding_agencies})"
   ]
  },
  {
   "cell_type": "code",
   "execution_count": 27,
   "metadata": {},
   "outputs": [
    {
     "data": {
      "text/html": [
       "<div>\n",
       "<style scoped>\n",
       "    .dataframe tbody tr th:only-of-type {\n",
       "        vertical-align: middle;\n",
       "    }\n",
       "\n",
       "    .dataframe tbody tr th {\n",
       "        vertical-align: top;\n",
       "    }\n",
       "\n",
       "    .dataframe thead th {\n",
       "        text-align: right;\n",
       "    }\n",
       "</style>\n",
       "<table border=\"1\" class=\"dataframe\">\n",
       "  <thead>\n",
       "    <tr style=\"text-align: right;\">\n",
       "      <th></th>\n",
       "      <th>PY</th>\n",
       "      <th>top_funding_agency_in_previous_yrs</th>\n",
       "    </tr>\n",
       "  </thead>\n",
       "  <tbody>\n",
       "    <tr>\n",
       "      <th>0</th>\n",
       "      <td>2001</td>\n",
       "      <td>[NA funding agency, Wellcome Trust, NHLBI NIH ...</td>\n",
       "    </tr>\n",
       "    <tr>\n",
       "      <th>1</th>\n",
       "      <td>2002</td>\n",
       "      <td>[NA funding agency, Wellcome Trust, NCRR NIH H...</td>\n",
       "    </tr>\n",
       "    <tr>\n",
       "      <th>2</th>\n",
       "      <td>2003</td>\n",
       "      <td>[NA funding agency, NCRR NIH HHS [RR01296], We...</td>\n",
       "    </tr>\n",
       "    <tr>\n",
       "      <th>3</th>\n",
       "      <td>2004</td>\n",
       "      <td>[NA funding agency, NCRR NIH HHS [RR01296], We...</td>\n",
       "    </tr>\n",
       "    <tr>\n",
       "      <th>4</th>\n",
       "      <td>2005</td>\n",
       "      <td>[NA funding agency, NCRR NIH HHS [RR01296], We...</td>\n",
       "    </tr>\n",
       "  </tbody>\n",
       "</table>\n",
       "</div>"
      ],
      "text/plain": [
       "     PY                 top_funding_agency_in_previous_yrs\n",
       "0  2001  [NA funding agency, Wellcome Trust, NHLBI NIH ...\n",
       "1  2002  [NA funding agency, Wellcome Trust, NCRR NIH H...\n",
       "2  2003  [NA funding agency, NCRR NIH HHS [RR01296], We...\n",
       "3  2004  [NA funding agency, NCRR NIH HHS [RR01296], We...\n",
       "4  2005  [NA funding agency, NCRR NIH HHS [RR01296], We..."
      ]
     },
     "execution_count": 27,
     "metadata": {},
     "output_type": "execute_result"
    }
   ],
   "source": [
    "top_funding_agency_df.head()"
   ]
  },
  {
   "cell_type": "markdown",
   "metadata": {},
   "source": [
    "# Have funding agency\n",
    "- Because originally, there are many missing data in 'FU'. Create a boolean type of variable to indicate whether there is a funding agency or not."
   ]
  },
  {
   "cell_type": "code",
   "execution_count": 28,
   "metadata": {},
   "outputs": [],
   "source": [
    "def have_funding_agency(x):\n",
    "    if x == 'NA funding agency':\n",
    "        return 0\n",
    "    else:\n",
    "        return 1"
   ]
  },
  {
   "cell_type": "code",
   "execution_count": 29,
   "metadata": {},
   "outputs": [],
   "source": [
    "data['Have_Funding_Agency'] = data['FU'].apply(have_funding_agency)"
   ]
  },
  {
   "cell_type": "code",
   "execution_count": 30,
   "metadata": {},
   "outputs": [
    {
     "data": {
      "text/html": [
       "<div>\n",
       "<style scoped>\n",
       "    .dataframe tbody tr th:only-of-type {\n",
       "        vertical-align: middle;\n",
       "    }\n",
       "\n",
       "    .dataframe tbody tr th {\n",
       "        vertical-align: top;\n",
       "    }\n",
       "\n",
       "    .dataframe thead th {\n",
       "        text-align: right;\n",
       "    }\n",
       "</style>\n",
       "<table border=\"1\" class=\"dataframe\">\n",
       "  <thead>\n",
       "    <tr style=\"text-align: right;\">\n",
       "      <th></th>\n",
       "      <th>FU</th>\n",
       "      <th>Have_Funding_Agency</th>\n",
       "    </tr>\n",
       "  </thead>\n",
       "  <tbody>\n",
       "    <tr>\n",
       "      <th>0</th>\n",
       "      <td>Natural Sciences and Engineering Council of Ca...</td>\n",
       "      <td>1</td>\n",
       "    </tr>\n",
       "    <tr>\n",
       "      <th>1</th>\n",
       "      <td>NA funding agency</td>\n",
       "      <td>0</td>\n",
       "    </tr>\n",
       "    <tr>\n",
       "      <th>2</th>\n",
       "      <td>NA funding agency</td>\n",
       "      <td>0</td>\n",
       "    </tr>\n",
       "    <tr>\n",
       "      <th>3</th>\n",
       "      <td>NA funding agency</td>\n",
       "      <td>0</td>\n",
       "    </tr>\n",
       "    <tr>\n",
       "      <th>4</th>\n",
       "      <td>National Institute of Health [1U01HL080718]</td>\n",
       "      <td>1</td>\n",
       "    </tr>\n",
       "    <tr>\n",
       "      <th>5</th>\n",
       "      <td>NA funding agency</td>\n",
       "      <td>0</td>\n",
       "    </tr>\n",
       "    <tr>\n",
       "      <th>6</th>\n",
       "      <td>French-Australian Science and Technology Progr...</td>\n",
       "      <td>1</td>\n",
       "    </tr>\n",
       "    <tr>\n",
       "      <th>7</th>\n",
       "      <td>National Heart Lung and Blood Institute's Prog...</td>\n",
       "      <td>1</td>\n",
       "    </tr>\n",
       "    <tr>\n",
       "      <th>8</th>\n",
       "      <td>JICA AUN/SEED net</td>\n",
       "      <td>1</td>\n",
       "    </tr>\n",
       "    <tr>\n",
       "      <th>9</th>\n",
       "      <td>National Science Foundation; National Institut...</td>\n",
       "      <td>1</td>\n",
       "    </tr>\n",
       "  </tbody>\n",
       "</table>\n",
       "</div>"
      ],
      "text/plain": [
       "                                                  FU  Have_Funding_Agency\n",
       "0  Natural Sciences and Engineering Council of Ca...                    1\n",
       "1                                  NA funding agency                    0\n",
       "2                                  NA funding agency                    0\n",
       "3                                  NA funding agency                    0\n",
       "4        National Institute of Health [1U01HL080718]                    1\n",
       "5                                  NA funding agency                    0\n",
       "6  French-Australian Science and Technology Progr...                    1\n",
       "7  National Heart Lung and Blood Institute's Prog...                    1\n",
       "8                                  JICA AUN/SEED net                    1\n",
       "9  National Science Foundation; National Institut...                    1"
      ]
     },
     "execution_count": 30,
     "metadata": {},
     "output_type": "execute_result"
    }
   ],
   "source": [
    "data[['FU','Have_Funding_Agency']].head(10)"
   ]
  },
  {
   "cell_type": "markdown",
   "metadata": {},
   "source": [
    "# Count of author\n",
    "- Publications might have several authors so perhaps more authors could bring more attentation on their publications."
   ]
  },
  {
   "cell_type": "code",
   "execution_count": 31,
   "metadata": {
    "scrolled": true
   },
   "outputs": [],
   "source": [
    "data['Author_count'] = data['All_authors'].apply(len)"
   ]
  },
  {
   "cell_type": "code",
   "execution_count": 32,
   "metadata": {
    "scrolled": false
   },
   "outputs": [
    {
     "data": {
      "text/html": [
       "<div>\n",
       "<style scoped>\n",
       "    .dataframe tbody tr th:only-of-type {\n",
       "        vertical-align: middle;\n",
       "    }\n",
       "\n",
       "    .dataframe tbody tr th {\n",
       "        vertical-align: top;\n",
       "    }\n",
       "\n",
       "    .dataframe thead th {\n",
       "        text-align: right;\n",
       "    }\n",
       "</style>\n",
       "<table border=\"1\" class=\"dataframe\">\n",
       "  <thead>\n",
       "    <tr style=\"text-align: right;\">\n",
       "      <th></th>\n",
       "      <th>All_authors</th>\n",
       "      <th>Author_count</th>\n",
       "    </tr>\n",
       "  </thead>\n",
       "  <tbody>\n",
       "    <tr>\n",
       "      <th>0</th>\n",
       "      <td>[DeWit, Matthew A.,  Gillies, Elizabeth R.]</td>\n",
       "      <td>2</td>\n",
       "    </tr>\n",
       "    <tr>\n",
       "      <th>1</th>\n",
       "      <td>[Zhang, Huigang,  Zhu, Qingshan]</td>\n",
       "      <td>2</td>\n",
       "    </tr>\n",
       "    <tr>\n",
       "      <th>2</th>\n",
       "      <td>[Yoshida, Mutsumi,  Roh, Kyung-Ho,  Mandal, Su...</td>\n",
       "      <td>8</td>\n",
       "    </tr>\n",
       "    <tr>\n",
       "      <th>3</th>\n",
       "      <td>[Tsou, Hsi-Kai,  Hsieh, Ping-Yen,  Chung, Chi-...</td>\n",
       "      <td>6</td>\n",
       "    </tr>\n",
       "    <tr>\n",
       "      <th>4</th>\n",
       "      <td>[Doshi, Nishit,  Mitragotri, Samir]</td>\n",
       "      <td>2</td>\n",
       "    </tr>\n",
       "    <tr>\n",
       "      <th>5</th>\n",
       "      <td>[Bedi, Rajwant S.,  Zanello, Laura P.,  Yan, Y...</td>\n",
       "      <td>3</td>\n",
       "    </tr>\n",
       "    <tr>\n",
       "      <th>6</th>\n",
       "      <td>[Ting, S. R. Simon,  Min, Eun Hee,  Escale, Pi...</td>\n",
       "      <td>6</td>\n",
       "    </tr>\n",
       "    <tr>\n",
       "      <th>7</th>\n",
       "      <td>[Doshi, Nishit,  Zahr, Alisar S.,  Bhaskar, Sr...</td>\n",
       "      <td>5</td>\n",
       "    </tr>\n",
       "    <tr>\n",
       "      <th>8</th>\n",
       "      <td>[Arre Toque, Jay,  Hamdi, M.,  Ide-Ektessabi, ...</td>\n",
       "      <td>4</td>\n",
       "    </tr>\n",
       "    <tr>\n",
       "      <th>9</th>\n",
       "      <td>[Caldorera-Moore, Mary,  Peppas, Nicholas A.]</td>\n",
       "      <td>2</td>\n",
       "    </tr>\n",
       "  </tbody>\n",
       "</table>\n",
       "</div>"
      ],
      "text/plain": [
       "                                         All_authors  Author_count\n",
       "0        [DeWit, Matthew A.,  Gillies, Elizabeth R.]             2\n",
       "1                   [Zhang, Huigang,  Zhu, Qingshan]             2\n",
       "2  [Yoshida, Mutsumi,  Roh, Kyung-Ho,  Mandal, Su...             8\n",
       "3  [Tsou, Hsi-Kai,  Hsieh, Ping-Yen,  Chung, Chi-...             6\n",
       "4                [Doshi, Nishit,  Mitragotri, Samir]             2\n",
       "5  [Bedi, Rajwant S.,  Zanello, Laura P.,  Yan, Y...             3\n",
       "6  [Ting, S. R. Simon,  Min, Eun Hee,  Escale, Pi...             6\n",
       "7  [Doshi, Nishit,  Zahr, Alisar S.,  Bhaskar, Sr...             5\n",
       "8  [Arre Toque, Jay,  Hamdi, M.,  Ide-Ektessabi, ...             4\n",
       "9      [Caldorera-Moore, Mary,  Peppas, Nicholas A.]             2"
      ]
     },
     "execution_count": 32,
     "metadata": {},
     "output_type": "execute_result"
    }
   ],
   "source": [
    "data[['All_authors','Author_count']].head(10)"
   ]
  },
  {
   "cell_type": "markdown",
   "metadata": {},
   "source": [
    "# Count of funding agency\n",
    "- Number of funding agency. Probably, more funding agencies to sponsor a publication could bring more attentation on it."
   ]
  },
  {
   "cell_type": "code",
   "execution_count": 33,
   "metadata": {},
   "outputs": [],
   "source": [
    "def count_funding_agency(x):\n",
    "    if x == ['NA funding agency']:\n",
    "        return 0\n",
    "    else:\n",
    "        return len(x)"
   ]
  },
  {
   "cell_type": "code",
   "execution_count": 34,
   "metadata": {
    "scrolled": true
   },
   "outputs": [],
   "source": [
    "data['Funding_agency_count'] = data['All_funding_agencies'].apply(count_funding_agency)"
   ]
  },
  {
   "cell_type": "code",
   "execution_count": 35,
   "metadata": {},
   "outputs": [
    {
     "data": {
      "text/html": [
       "<div>\n",
       "<style scoped>\n",
       "    .dataframe tbody tr th:only-of-type {\n",
       "        vertical-align: middle;\n",
       "    }\n",
       "\n",
       "    .dataframe tbody tr th {\n",
       "        vertical-align: top;\n",
       "    }\n",
       "\n",
       "    .dataframe thead th {\n",
       "        text-align: right;\n",
       "    }\n",
       "</style>\n",
       "<table border=\"1\" class=\"dataframe\">\n",
       "  <thead>\n",
       "    <tr style=\"text-align: right;\">\n",
       "      <th></th>\n",
       "      <th>Funding_agency_count</th>\n",
       "      <th>All_funding_agencies</th>\n",
       "    </tr>\n",
       "  </thead>\n",
       "  <tbody>\n",
       "    <tr>\n",
       "      <th>0</th>\n",
       "      <td>3</td>\n",
       "      <td>[Natural Sciences and Engineering Council of C...</td>\n",
       "    </tr>\n",
       "    <tr>\n",
       "      <th>1</th>\n",
       "      <td>0</td>\n",
       "      <td>[NA funding agency]</td>\n",
       "    </tr>\n",
       "    <tr>\n",
       "      <th>2</th>\n",
       "      <td>0</td>\n",
       "      <td>[NA funding agency]</td>\n",
       "    </tr>\n",
       "    <tr>\n",
       "      <th>3</th>\n",
       "      <td>0</td>\n",
       "      <td>[NA funding agency]</td>\n",
       "    </tr>\n",
       "    <tr>\n",
       "      <th>4</th>\n",
       "      <td>1</td>\n",
       "      <td>[National Institute of Health [1U01HL080718]]</td>\n",
       "    </tr>\n",
       "    <tr>\n",
       "      <th>5</th>\n",
       "      <td>0</td>\n",
       "      <td>[NA funding agency]</td>\n",
       "    </tr>\n",
       "    <tr>\n",
       "      <th>6</th>\n",
       "      <td>1</td>\n",
       "      <td>[French-Australian Science and Technology Prog...</td>\n",
       "    </tr>\n",
       "    <tr>\n",
       "      <th>7</th>\n",
       "      <td>3</td>\n",
       "      <td>[National Heart Lung and Blood Institute's Pro...</td>\n",
       "    </tr>\n",
       "    <tr>\n",
       "      <th>8</th>\n",
       "      <td>1</td>\n",
       "      <td>[JICA AUN/SEED net]</td>\n",
       "    </tr>\n",
       "    <tr>\n",
       "      <th>9</th>\n",
       "      <td>2</td>\n",
       "      <td>[National Science Foundation,  National Instit...</td>\n",
       "    </tr>\n",
       "  </tbody>\n",
       "</table>\n",
       "</div>"
      ],
      "text/plain": [
       "   Funding_agency_count                               All_funding_agencies\n",
       "0                     3  [Natural Sciences and Engineering Council of C...\n",
       "1                     0                                [NA funding agency]\n",
       "2                     0                                [NA funding agency]\n",
       "3                     0                                [NA funding agency]\n",
       "4                     1      [National Institute of Health [1U01HL080718]]\n",
       "5                     0                                [NA funding agency]\n",
       "6                     1  [French-Australian Science and Technology Prog...\n",
       "7                     3  [National Heart Lung and Blood Institute's Pro...\n",
       "8                     1                                [JICA AUN/SEED net]\n",
       "9                     2  [National Science Foundation,  National Instit..."
      ]
     },
     "execution_count": 35,
     "metadata": {},
     "output_type": "execute_result"
    }
   ],
   "source": [
    "data[['Funding_agency_count', 'All_funding_agencies']].head(10)"
   ]
  },
  {
   "cell_type": "markdown",
   "metadata": {},
   "source": [
    "# Publisher\n",
    "- Lower down the levels in Publisher into seven levels by only considering top publishers in recent years from 2008 to 2018."
   ]
  },
  {
   "cell_type": "code",
   "execution_count": 36,
   "metadata": {
    "scrolled": true
   },
   "outputs": [],
   "source": [
    "def squeeze_publisher(x):\n",
    "    top_publishers = ['ELSEVIER SCI LTD', 'ELSEVIER SCIENCE BV', 'AMER CHEMICAL SOC', 'WILEY',\\\n",
    "                      'SPRINGER', 'WILEY-BLACKWELL', 'ROYAL SOC CHEMISTRY', 'WILEY-V C H VERLAG GMBH',\\\n",
    "                      'ELSEVIER SCIENCE SA', 'PERGAMON-ELSEVIER SCIENCE LTD']\n",
    "    if x.strip().upper() in top_publishers:\n",
    "        return x.strip().upper()\n",
    "    else:\n",
    "        return 'Other Publishers'"
   ]
  },
  {
   "cell_type": "code",
   "execution_count": 37,
   "metadata": {},
   "outputs": [],
   "source": [
    "data['Squeezed_Publisher'] = data.PU.apply(squeeze_publisher)"
   ]
  },
  {
   "cell_type": "code",
   "execution_count": 38,
   "metadata": {},
   "outputs": [
    {
     "data": {
      "text/html": [
       "<div>\n",
       "<style scoped>\n",
       "    .dataframe tbody tr th:only-of-type {\n",
       "        vertical-align: middle;\n",
       "    }\n",
       "\n",
       "    .dataframe tbody tr th {\n",
       "        vertical-align: top;\n",
       "    }\n",
       "\n",
       "    .dataframe thead th {\n",
       "        text-align: right;\n",
       "    }\n",
       "</style>\n",
       "<table border=\"1\" class=\"dataframe\">\n",
       "  <thead>\n",
       "    <tr style=\"text-align: right;\">\n",
       "      <th></th>\n",
       "      <th>PU</th>\n",
       "      <th>Squeezed_Publisher</th>\n",
       "    </tr>\n",
       "  </thead>\n",
       "  <tbody>\n",
       "    <tr>\n",
       "      <th>0</th>\n",
       "      <td>AMER CHEMICAL SOC</td>\n",
       "      <td>AMER CHEMICAL SOC</td>\n",
       "    </tr>\n",
       "    <tr>\n",
       "      <th>1</th>\n",
       "      <td>WORLD SCIENTIFIC PUBL CO PTE LTD</td>\n",
       "      <td>Other Publishers</td>\n",
       "    </tr>\n",
       "    <tr>\n",
       "      <th>2</th>\n",
       "      <td>WILEY-V C H VERLAG GMBH</td>\n",
       "      <td>WILEY-V C H VERLAG GMBH</td>\n",
       "    </tr>\n",
       "    <tr>\n",
       "      <th>3</th>\n",
       "      <td>ELSEVIER SCIENCE SA</td>\n",
       "      <td>ELSEVIER SCIENCE SA</td>\n",
       "    </tr>\n",
       "    <tr>\n",
       "      <th>4</th>\n",
       "      <td>WILEY-V C H VERLAG GMBH</td>\n",
       "      <td>WILEY-V C H VERLAG GMBH</td>\n",
       "    </tr>\n",
       "    <tr>\n",
       "      <th>5</th>\n",
       "      <td>WILEY-V C H VERLAG GMBH</td>\n",
       "      <td>WILEY-V C H VERLAG GMBH</td>\n",
       "    </tr>\n",
       "    <tr>\n",
       "      <th>6</th>\n",
       "      <td>AMER CHEMICAL SOC</td>\n",
       "      <td>AMER CHEMICAL SOC</td>\n",
       "    </tr>\n",
       "    <tr>\n",
       "      <th>7</th>\n",
       "      <td>NATL ACAD SCIENCES</td>\n",
       "      <td>Other Publishers</td>\n",
       "    </tr>\n",
       "    <tr>\n",
       "      <th>8</th>\n",
       "      <td>WORLD SCIENTIFIC PUBL CO PTE LTD</td>\n",
       "      <td>Other Publishers</td>\n",
       "    </tr>\n",
       "    <tr>\n",
       "      <th>9</th>\n",
       "      <td>ELSEVIER SCIENCE BV</td>\n",
       "      <td>ELSEVIER SCIENCE BV</td>\n",
       "    </tr>\n",
       "  </tbody>\n",
       "</table>\n",
       "</div>"
      ],
      "text/plain": [
       "                                 PU       Squeezed_Publisher\n",
       "0                 AMER CHEMICAL SOC        AMER CHEMICAL SOC\n",
       "1  WORLD SCIENTIFIC PUBL CO PTE LTD         Other Publishers\n",
       "2           WILEY-V C H VERLAG GMBH  WILEY-V C H VERLAG GMBH\n",
       "3               ELSEVIER SCIENCE SA      ELSEVIER SCIENCE SA\n",
       "4           WILEY-V C H VERLAG GMBH  WILEY-V C H VERLAG GMBH\n",
       "5           WILEY-V C H VERLAG GMBH  WILEY-V C H VERLAG GMBH\n",
       "6                 AMER CHEMICAL SOC        AMER CHEMICAL SOC\n",
       "7                NATL ACAD SCIENCES         Other Publishers\n",
       "8  WORLD SCIENTIFIC PUBL CO PTE LTD         Other Publishers\n",
       "9               ELSEVIER SCIENCE BV      ELSEVIER SCIENCE BV"
      ]
     },
     "execution_count": 38,
     "metadata": {},
     "output_type": "execute_result"
    }
   ],
   "source": [
    "data[['PU','Squeezed_Publisher']].head(10)"
   ]
  },
  {
   "cell_type": "code",
   "execution_count": 39,
   "metadata": {},
   "outputs": [
    {
     "data": {
      "text/plain": [
       "11"
      ]
     },
     "execution_count": 39,
     "metadata": {},
     "output_type": "execute_result"
    }
   ],
   "source": [
    "# Make sure the transformation is correct!\n",
    "# Must be 11 levels.\n",
    "len(data.Squeezed_Publisher.unique())"
   ]
  },
  {
   "cell_type": "markdown",
   "metadata": {},
   "source": [
    "# Country (Skipped this part)"
   ]
  },
  {
   "cell_type": "code",
   "execution_count": null,
   "metadata": {},
   "outputs": [],
   "source": [
    "# Impute missing values in 'PA' column.\n",
    "data['PA'].fillna('NA country', inplace=True)"
   ]
  },
  {
   "cell_type": "code",
   "execution_count": null,
   "metadata": {},
   "outputs": [],
   "source": [
    "def extract_country(x):\n",
    "    target_country = ('usa','china','germany','japan','england','italy','korea',\\\n",
    "                      'france','india','canada','spain','australia','netherlands','portugal',\\\n",
    "                      'switzerland','sweden')\n",
    "    split_country = x.strip().lower().split(' ')\n",
    "    if any(each in target_country for each in split_country):\n",
    "        if split_country[-1] in target_country:\n",
    "            return split_country[-1].upper()\n",
    "        elif split_country[-2] in target_country:\n",
    "            return split_country[-2].upper()\n",
    "        elif split_country[-3] in target_country:\n",
    "            return split_country[-3].upper()\n",
    "    else:\n",
    "        return 'Other countries'\n",
    "        \n",
    "        #search_country = x.split(' ')\n",
    "        #total_len = len(search_country)\n",
    "        #for i in range(total_len):\n",
    "            #if search_country[i] in target_country:\n",
    "                #final_country = search_country[i]\n",
    "                \n",
    "                #return final_country"
   ]
  },
  {
   "cell_type": "markdown",
   "metadata": {},
   "source": [
    "# Final Data"
   ]
  },
  {
   "cell_type": "code",
   "execution_count": 40,
   "metadata": {},
   "outputs": [
    {
     "name": "stdout",
     "output_type": "stream",
     "text": [
      "     PY                        top_authors_in_previous_yrs\n",
      "0  2001  [BRUCK, SD, [Anonymous], HEIMKE, G, DANIELS, A...\n",
      "1  2002  [[Anonymous], BRUCK, SD, Bellon, JM, HEIMKE, G...\n",
      "2  2003  [[Anonymous], BRUCK, SD, HEIMKE, G, DANIELS, A...\n",
      "3  2004  [[Anonymous], BRUCK, SD, HEIMKE, G, DANIELS, A...\n",
      "4  2005  [[Anonymous], BRUCK, SD, HEIMKE, G, DANIELS, A...\n",
      "     PY                     top_publishers_in_previous_yrs\n",
      "0  2001  [JOHN WILEY & SONS INC, ELSEVIER SCI LTD, AMER...\n",
      "1  2002  [ELSEVIER SCI LTD, JOHN WILEY & SONS INC, AMER...\n",
      "2  2003  [ELSEVIER SCI LTD, JOHN WILEY & SONS INC, AMER...\n",
      "3  2004  [ELSEVIER SCI LTD, JOHN WILEY & SONS INC, AMER...\n",
      "4  2005  [ELSEVIER SCI LTD, JOHN WILEY & SONS INC, AMER...\n",
      "     PY                 top_funding_agency_in_previous_yrs\n",
      "0  2001  [NA funding agency, Wellcome Trust, NHLBI NIH ...\n",
      "1  2002  [NA funding agency, Wellcome Trust, NCRR NIH H...\n",
      "2  2003  [NA funding agency, NCRR NIH HHS [RR01296], We...\n",
      "3  2004  [NA funding agency, NCRR NIH HHS [RR01296], We...\n",
      "4  2005  [NA funding agency, NCRR NIH HHS [RR01296], We...\n"
     ]
    }
   ],
   "source": [
    "# First merge the original dataframe with new feature each by each on the key 'PY' (or year).\n",
    "print(top_author_df.head())\n",
    "print(top_publisher_df.head())\n",
    "print(top_funding_agency_df.head())"
   ]
  },
  {
   "cell_type": "code",
   "execution_count": 41,
   "metadata": {},
   "outputs": [
    {
     "data": {
      "text/plain": [
       "(45632, 15)"
      ]
     },
     "execution_count": 41,
     "metadata": {},
     "output_type": "execute_result"
    }
   ],
   "source": [
    "# Shape before merging.\n",
    "data.shape"
   ]
  },
  {
   "cell_type": "code",
   "execution_count": 42,
   "metadata": {},
   "outputs": [
    {
     "data": {
      "text/plain": [
       "(45632, 18)"
      ]
     },
     "execution_count": 42,
     "metadata": {},
     "output_type": "execute_result"
    }
   ],
   "source": [
    "new_data = pd.merge(data, top_author_df, on='PY', how='left')\n",
    "new_data = pd.merge(new_data, top_publisher_df, on='PY', how='left')\n",
    "new_data = pd.merge(new_data, top_funding_agency_df, on='PY', how='left')\n",
    "new_data.shape"
   ]
  },
  {
   "cell_type": "code",
   "execution_count": 43,
   "metadata": {},
   "outputs": [
    {
     "data": {
      "text/html": [
       "<div>\n",
       "<style scoped>\n",
       "    .dataframe tbody tr th:only-of-type {\n",
       "        vertical-align: middle;\n",
       "    }\n",
       "\n",
       "    .dataframe tbody tr th {\n",
       "        vertical-align: top;\n",
       "    }\n",
       "\n",
       "    .dataframe thead th {\n",
       "        text-align: right;\n",
       "    }\n",
       "</style>\n",
       "<table border=\"1\" class=\"dataframe\">\n",
       "  <thead>\n",
       "    <tr style=\"text-align: right;\">\n",
       "      <th></th>\n",
       "      <th>Cluster_Topic</th>\n",
       "      <th>PY</th>\n",
       "      <th>Topic_Year</th>\n",
       "      <th>PT</th>\n",
       "      <th>AF</th>\n",
       "      <th>PU</th>\n",
       "      <th>FU</th>\n",
       "      <th>PA</th>\n",
       "      <th>PG</th>\n",
       "      <th>All_authors</th>\n",
       "      <th>All_funding_agencies</th>\n",
       "      <th>Have_Funding_Agency</th>\n",
       "      <th>Author_count</th>\n",
       "      <th>Funding_agency_count</th>\n",
       "      <th>Squeezed_Publisher</th>\n",
       "      <th>top_authors_in_previous_yrs</th>\n",
       "      <th>top_publishers_in_previous_yrs</th>\n",
       "      <th>top_funding_agency_in_previous_yrs</th>\n",
       "    </tr>\n",
       "  </thead>\n",
       "  <tbody>\n",
       "    <tr>\n",
       "      <th>0</th>\n",
       "      <td>6</td>\n",
       "      <td>2009</td>\n",
       "      <td>6_2009</td>\n",
       "      <td>J</td>\n",
       "      <td>DeWit, Matthew A.; Gillies, Elizabeth R.</td>\n",
       "      <td>AMER CHEMICAL SOC</td>\n",
       "      <td>Natural Sciences and Engineering Council of Ca...</td>\n",
       "      <td>1155 16TH ST, NW, WASHINGTON, DC 20036 USA</td>\n",
       "      <td>8</td>\n",
       "      <td>[DeWit, Matthew A.,  Gillies, Elizabeth R.]</td>\n",
       "      <td>[Natural Sciences and Engineering Council of C...</td>\n",
       "      <td>1</td>\n",
       "      <td>2</td>\n",
       "      <td>3</td>\n",
       "      <td>AMER CHEMICAL SOC</td>\n",
       "      <td>[[Anonymous], BRUCK, SD, Tsuji, H, Wood, Jonat...</td>\n",
       "      <td>[ELSEVIER SCI LTD, AMER CHEMICAL SOC, ELSEVIER...</td>\n",
       "      <td>[NA funding agency, Wellcome Trust, NCRR NIH H...</td>\n",
       "    </tr>\n",
       "    <tr>\n",
       "      <th>1</th>\n",
       "      <td>2</td>\n",
       "      <td>2009</td>\n",
       "      <td>2_2009</td>\n",
       "      <td>J</td>\n",
       "      <td>Zhang, Huigang; Zhu, Qingshan</td>\n",
       "      <td>WORLD SCIENTIFIC PUBL CO PTE LTD</td>\n",
       "      <td>NA funding agency</td>\n",
       "      <td>5 TOH TUCK LINK, SINGAPORE 596224, SINGAPORE</td>\n",
       "      <td>10</td>\n",
       "      <td>[Zhang, Huigang,  Zhu, Qingshan]</td>\n",
       "      <td>[NA funding agency]</td>\n",
       "      <td>0</td>\n",
       "      <td>2</td>\n",
       "      <td>0</td>\n",
       "      <td>Other Publishers</td>\n",
       "      <td>[[Anonymous], BRUCK, SD, Tsuji, H, Wood, Jonat...</td>\n",
       "      <td>[ELSEVIER SCI LTD, AMER CHEMICAL SOC, ELSEVIER...</td>\n",
       "      <td>[NA funding agency, Wellcome Trust, NCRR NIH H...</td>\n",
       "    </tr>\n",
       "    <tr>\n",
       "      <th>2</th>\n",
       "      <td>5</td>\n",
       "      <td>2009</td>\n",
       "      <td>5_2009</td>\n",
       "      <td>J</td>\n",
       "      <td>Yoshida, Mutsumi; Roh, Kyung-Ho; Mandal, Supar...</td>\n",
       "      <td>WILEY-V C H VERLAG GMBH</td>\n",
       "      <td>NA funding agency</td>\n",
       "      <td>POSTFACH 101161, 69451 WEINHEIM, GERMANY</td>\n",
       "      <td>7</td>\n",
       "      <td>[Yoshida, Mutsumi,  Roh, Kyung-Ho,  Mandal, Su...</td>\n",
       "      <td>[NA funding agency]</td>\n",
       "      <td>0</td>\n",
       "      <td>8</td>\n",
       "      <td>0</td>\n",
       "      <td>WILEY-V C H VERLAG GMBH</td>\n",
       "      <td>[[Anonymous], BRUCK, SD, Tsuji, H, Wood, Jonat...</td>\n",
       "      <td>[ELSEVIER SCI LTD, AMER CHEMICAL SOC, ELSEVIER...</td>\n",
       "      <td>[NA funding agency, Wellcome Trust, NCRR NIH H...</td>\n",
       "    </tr>\n",
       "    <tr>\n",
       "      <th>3</th>\n",
       "      <td>9</td>\n",
       "      <td>2009</td>\n",
       "      <td>9_2009</td>\n",
       "      <td>J</td>\n",
       "      <td>Tsou, Hsi-Kai; Hsieh, Ping-Yen; Chung, Chi-Jen...</td>\n",
       "      <td>ELSEVIER SCIENCE SA</td>\n",
       "      <td>NA funding agency</td>\n",
       "      <td>PO BOX 564, 1001 LAUSANNE, SWITZERLAND</td>\n",
       "      <td>5</td>\n",
       "      <td>[Tsou, Hsi-Kai,  Hsieh, Ping-Yen,  Chung, Chi-...</td>\n",
       "      <td>[NA funding agency]</td>\n",
       "      <td>0</td>\n",
       "      <td>6</td>\n",
       "      <td>0</td>\n",
       "      <td>ELSEVIER SCIENCE SA</td>\n",
       "      <td>[[Anonymous], BRUCK, SD, Tsuji, H, Wood, Jonat...</td>\n",
       "      <td>[ELSEVIER SCI LTD, AMER CHEMICAL SOC, ELSEVIER...</td>\n",
       "      <td>[NA funding agency, Wellcome Trust, NCRR NIH H...</td>\n",
       "    </tr>\n",
       "    <tr>\n",
       "      <th>4</th>\n",
       "      <td>13</td>\n",
       "      <td>2009</td>\n",
       "      <td>13_2009</td>\n",
       "      <td>J</td>\n",
       "      <td>Doshi, Nishit; Mitragotri, Samir</td>\n",
       "      <td>WILEY-V C H VERLAG GMBH</td>\n",
       "      <td>National Institute of Health [1U01HL080718]</td>\n",
       "      <td>PO BOX 10 11 61, D-69451 WEINHEIM, GERMANY</td>\n",
       "      <td>12</td>\n",
       "      <td>[Doshi, Nishit,  Mitragotri, Samir]</td>\n",
       "      <td>[National Institute of Health [1U01HL080718]]</td>\n",
       "      <td>1</td>\n",
       "      <td>2</td>\n",
       "      <td>1</td>\n",
       "      <td>WILEY-V C H VERLAG GMBH</td>\n",
       "      <td>[[Anonymous], BRUCK, SD, Tsuji, H, Wood, Jonat...</td>\n",
       "      <td>[ELSEVIER SCI LTD, AMER CHEMICAL SOC, ELSEVIER...</td>\n",
       "      <td>[NA funding agency, Wellcome Trust, NCRR NIH H...</td>\n",
       "    </tr>\n",
       "  </tbody>\n",
       "</table>\n",
       "</div>"
      ],
      "text/plain": [
       "   Cluster_Topic    PY Topic_Year PT  \\\n",
       "0              6  2009     6_2009  J   \n",
       "1              2  2009     2_2009  J   \n",
       "2              5  2009     5_2009  J   \n",
       "3              9  2009     9_2009  J   \n",
       "4             13  2009    13_2009  J   \n",
       "\n",
       "                                                  AF  \\\n",
       "0           DeWit, Matthew A.; Gillies, Elizabeth R.   \n",
       "1                      Zhang, Huigang; Zhu, Qingshan   \n",
       "2  Yoshida, Mutsumi; Roh, Kyung-Ho; Mandal, Supar...   \n",
       "3  Tsou, Hsi-Kai; Hsieh, Ping-Yen; Chung, Chi-Jen...   \n",
       "4                   Doshi, Nishit; Mitragotri, Samir   \n",
       "\n",
       "                                 PU  \\\n",
       "0                 AMER CHEMICAL SOC   \n",
       "1  WORLD SCIENTIFIC PUBL CO PTE LTD   \n",
       "2           WILEY-V C H VERLAG GMBH   \n",
       "3               ELSEVIER SCIENCE SA   \n",
       "4           WILEY-V C H VERLAG GMBH   \n",
       "\n",
       "                                                  FU  \\\n",
       "0  Natural Sciences and Engineering Council of Ca...   \n",
       "1                                  NA funding agency   \n",
       "2                                  NA funding agency   \n",
       "3                                  NA funding agency   \n",
       "4        National Institute of Health [1U01HL080718]   \n",
       "\n",
       "                                             PA  PG  \\\n",
       "0    1155 16TH ST, NW, WASHINGTON, DC 20036 USA   8   \n",
       "1  5 TOH TUCK LINK, SINGAPORE 596224, SINGAPORE  10   \n",
       "2      POSTFACH 101161, 69451 WEINHEIM, GERMANY   7   \n",
       "3        PO BOX 564, 1001 LAUSANNE, SWITZERLAND   5   \n",
       "4    PO BOX 10 11 61, D-69451 WEINHEIM, GERMANY  12   \n",
       "\n",
       "                                         All_authors  \\\n",
       "0        [DeWit, Matthew A.,  Gillies, Elizabeth R.]   \n",
       "1                   [Zhang, Huigang,  Zhu, Qingshan]   \n",
       "2  [Yoshida, Mutsumi,  Roh, Kyung-Ho,  Mandal, Su...   \n",
       "3  [Tsou, Hsi-Kai,  Hsieh, Ping-Yen,  Chung, Chi-...   \n",
       "4                [Doshi, Nishit,  Mitragotri, Samir]   \n",
       "\n",
       "                                All_funding_agencies  Have_Funding_Agency  \\\n",
       "0  [Natural Sciences and Engineering Council of C...                    1   \n",
       "1                                [NA funding agency]                    0   \n",
       "2                                [NA funding agency]                    0   \n",
       "3                                [NA funding agency]                    0   \n",
       "4      [National Institute of Health [1U01HL080718]]                    1   \n",
       "\n",
       "   Author_count  Funding_agency_count       Squeezed_Publisher  \\\n",
       "0             2                     3        AMER CHEMICAL SOC   \n",
       "1             2                     0         Other Publishers   \n",
       "2             8                     0  WILEY-V C H VERLAG GMBH   \n",
       "3             6                     0      ELSEVIER SCIENCE SA   \n",
       "4             2                     1  WILEY-V C H VERLAG GMBH   \n",
       "\n",
       "                         top_authors_in_previous_yrs  \\\n",
       "0  [[Anonymous], BRUCK, SD, Tsuji, H, Wood, Jonat...   \n",
       "1  [[Anonymous], BRUCK, SD, Tsuji, H, Wood, Jonat...   \n",
       "2  [[Anonymous], BRUCK, SD, Tsuji, H, Wood, Jonat...   \n",
       "3  [[Anonymous], BRUCK, SD, Tsuji, H, Wood, Jonat...   \n",
       "4  [[Anonymous], BRUCK, SD, Tsuji, H, Wood, Jonat...   \n",
       "\n",
       "                      top_publishers_in_previous_yrs  \\\n",
       "0  [ELSEVIER SCI LTD, AMER CHEMICAL SOC, ELSEVIER...   \n",
       "1  [ELSEVIER SCI LTD, AMER CHEMICAL SOC, ELSEVIER...   \n",
       "2  [ELSEVIER SCI LTD, AMER CHEMICAL SOC, ELSEVIER...   \n",
       "3  [ELSEVIER SCI LTD, AMER CHEMICAL SOC, ELSEVIER...   \n",
       "4  [ELSEVIER SCI LTD, AMER CHEMICAL SOC, ELSEVIER...   \n",
       "\n",
       "                  top_funding_agency_in_previous_yrs  \n",
       "0  [NA funding agency, Wellcome Trust, NCRR NIH H...  \n",
       "1  [NA funding agency, Wellcome Trust, NCRR NIH H...  \n",
       "2  [NA funding agency, Wellcome Trust, NCRR NIH H...  \n",
       "3  [NA funding agency, Wellcome Trust, NCRR NIH H...  \n",
       "4  [NA funding agency, Wellcome Trust, NCRR NIH H...  "
      ]
     },
     "execution_count": 43,
     "metadata": {},
     "output_type": "execute_result"
    }
   ],
   "source": [
    "new_data.head()"
   ]
  },
  {
   "cell_type": "code",
   "execution_count": 48,
   "metadata": {},
   "outputs": [],
   "source": [
    "def contain_top_feature(feature_name,top_feature_name,dataframe):\n",
    "    total_len = dataframe[dataframe.PY>2000].shape[0]\n",
    "    filtered_df = dataframe[dataframe.PY>2000]\n",
    "    filtered_df = filtered_df.reset_index()\n",
    "    \n",
    "    index_contain_top_feature = []\n",
    "    boolean_value = []\n",
    "    for i in range(total_len):\n",
    "        total_features = filtered_df[feature_name][i]\n",
    "        search_features = filtered_df[top_feature_name][i]\n",
    "        for feat in total_features:\n",
    "            if feat in search_features:\n",
    "                index_contain_top_feature.append(i)\n",
    "                boolean_value.append(1)\n",
    "                break\n",
    "            else:\n",
    "                continue\n",
    "    contain_top_feature_df = pd.DataFrame({'Contain_Top_'+feature_name:boolean_value},\\\n",
    "                                          index=index_contain_top_feature)\n",
    "    return contain_top_feature_df"
   ]
  },
  {
   "cell_type": "code",
   "execution_count": 49,
   "metadata": {},
   "outputs": [],
   "source": [
    "contain_top_author_df = contain_top_feature(feature_name='All_authors',\n",
    "                                            top_feature_name='top_authors_in_previous_yrs',\n",
    "                                            dataframe=new_data)\n",
    "contain_top_fund_agency_df = contain_top_feature(feature_name='All_funding_agencies',\n",
    "                                            top_feature_name='top_funding_agency_in_previous_yrs',\n",
    "                                            dataframe=new_data)"
   ]
  },
  {
   "cell_type": "code",
   "execution_count": 53,
   "metadata": {},
   "outputs": [],
   "source": [
    "target_df = new_data[new_data.PY>2000]\n",
    "target_df = target_df.reset_index()\n",
    "target_df = target_df.merge(contain_top_author_df, how='left', left_index=True, right_index=True)\n",
    "target_df = target_df.merge(contain_top_fund_agency_df, how='left', left_index=True, right_index=True)"
   ]
  },
  {
   "cell_type": "code",
   "execution_count": 56,
   "metadata": {},
   "outputs": [],
   "source": [
    "target_df.drop('index',axis=1,inplace=True)"
   ]
  },
  {
   "cell_type": "code",
   "execution_count": 65,
   "metadata": {},
   "outputs": [],
   "source": [
    "def contain_top_feature(feature_name,top_feature_name,dataframe):\n",
    "    total_len = dataframe[dataframe.PY>2000].shape[0]\n",
    "    filtered_df = dataframe[dataframe.PY>2000]\n",
    "    filtered_df = filtered_df.reset_index()\n",
    "    \n",
    "    index_contain_top_feature = []\n",
    "    boolean_value = []\n",
    "    for i in range(total_len):\n",
    "        total_features = filtered_df[feature_name][i]\n",
    "        search_features = filtered_df[top_feature_name][i]\n",
    "        if total_features in search_features:\n",
    "            index_contain_top_feature.append(i)\n",
    "            boolean_value.append(1)\n",
    "            \n",
    "    contain_top_feature_df = pd.DataFrame({'Contain_Top_'+feature_name:boolean_value},\\\n",
    "                                          index=index_contain_top_feature)\n",
    "    return contain_top_feature_df"
   ]
  },
  {
   "cell_type": "code",
   "execution_count": 66,
   "metadata": {},
   "outputs": [],
   "source": [
    "contain_top_publisher_df = contain_top_feature(feature_name='PU',\n",
    "                                               top_feature_name='top_publishers_in_previous_yrs',\n",
    "                                               dataframe=new_data)"
   ]
  },
  {
   "cell_type": "code",
   "execution_count": 69,
   "metadata": {},
   "outputs": [],
   "source": [
    "target_df = target_df.merge(contain_top_publisher_df, how='left', left_index=True, right_index=True)"
   ]
  },
  {
   "cell_type": "code",
   "execution_count": 73,
   "metadata": {},
   "outputs": [],
   "source": [
    "target_df['Contain_Top_All_authors'].fillna(0, inplace=True)\n",
    "target_df['Contain_Top_All_funding_agencies'].fillna(0, inplace=True)\n",
    "target_df['Contain_Top_PU'].fillna(0, inplace=True)"
   ]
  },
  {
   "cell_type": "code",
   "execution_count": 74,
   "metadata": {},
   "outputs": [
    {
     "data": {
      "text/plain": [
       "Cluster_Topic                         0\n",
       "PY                                    0\n",
       "Topic_Year                            0\n",
       "PT                                    0\n",
       "AF                                    0\n",
       "PU                                    0\n",
       "FU                                    0\n",
       "PA                                    0\n",
       "PG                                    0\n",
       "All_authors                           0\n",
       "All_funding_agencies                  0\n",
       "Have_Funding_Agency                   0\n",
       "Author_count                          0\n",
       "Funding_agency_count                  0\n",
       "Squeezed_Publisher                    0\n",
       "top_authors_in_previous_yrs           0\n",
       "top_publishers_in_previous_yrs        0\n",
       "top_funding_agency_in_previous_yrs    0\n",
       "Contain_Top_All_authors               0\n",
       "Contain_Top_All_funding_agencies      0\n",
       "Contain_Top_PU                        0\n",
       "dtype: int64"
      ]
     },
     "execution_count": 74,
     "metadata": {},
     "output_type": "execute_result"
    }
   ],
   "source": [
    "target_df.isnull().sum()"
   ]
  },
  {
   "cell_type": "code",
   "execution_count": 81,
   "metadata": {},
   "outputs": [],
   "source": [
    "# Drop off columns\n",
    "drop_cols = ['AF','PU','FU','PA','All_authors','All_funding_agencies',\\\n",
    "             'top_authors_in_previous_yrs','top_publishers_in_previous_yrs','top_funding_agency_in_previous_yrs']\n",
    "target_df.drop(drop_cols, axis=1,inplace=True)"
   ]
  },
  {
   "cell_type": "code",
   "execution_count": 82,
   "metadata": {},
   "outputs": [
    {
     "data": {
      "text/plain": [
       "(42293, 12)"
      ]
     },
     "execution_count": 82,
     "metadata": {},
     "output_type": "execute_result"
    }
   ],
   "source": [
    "target_df.shape"
   ]
  },
  {
   "cell_type": "code",
   "execution_count": 83,
   "metadata": {},
   "outputs": [
    {
     "data": {
      "text/html": [
       "<div>\n",
       "<style scoped>\n",
       "    .dataframe tbody tr th:only-of-type {\n",
       "        vertical-align: middle;\n",
       "    }\n",
       "\n",
       "    .dataframe tbody tr th {\n",
       "        vertical-align: top;\n",
       "    }\n",
       "\n",
       "    .dataframe thead th {\n",
       "        text-align: right;\n",
       "    }\n",
       "</style>\n",
       "<table border=\"1\" class=\"dataframe\">\n",
       "  <thead>\n",
       "    <tr style=\"text-align: right;\">\n",
       "      <th></th>\n",
       "      <th>Cluster_Topic</th>\n",
       "      <th>PY</th>\n",
       "      <th>Topic_Year</th>\n",
       "      <th>PT</th>\n",
       "      <th>PG</th>\n",
       "      <th>Have_Funding_Agency</th>\n",
       "      <th>Author_count</th>\n",
       "      <th>Funding_agency_count</th>\n",
       "      <th>Squeezed_Publisher</th>\n",
       "      <th>Contain_Top_All_authors</th>\n",
       "      <th>Contain_Top_All_funding_agencies</th>\n",
       "      <th>Contain_Top_PU</th>\n",
       "    </tr>\n",
       "  </thead>\n",
       "  <tbody>\n",
       "    <tr>\n",
       "      <th>0</th>\n",
       "      <td>6</td>\n",
       "      <td>2009</td>\n",
       "      <td>6_2009</td>\n",
       "      <td>J</td>\n",
       "      <td>8</td>\n",
       "      <td>1</td>\n",
       "      <td>2</td>\n",
       "      <td>3</td>\n",
       "      <td>AMER CHEMICAL SOC</td>\n",
       "      <td>0.0</td>\n",
       "      <td>0.0</td>\n",
       "      <td>1.0</td>\n",
       "    </tr>\n",
       "    <tr>\n",
       "      <th>1</th>\n",
       "      <td>2</td>\n",
       "      <td>2009</td>\n",
       "      <td>2_2009</td>\n",
       "      <td>J</td>\n",
       "      <td>10</td>\n",
       "      <td>0</td>\n",
       "      <td>2</td>\n",
       "      <td>0</td>\n",
       "      <td>Other Publishers</td>\n",
       "      <td>0.0</td>\n",
       "      <td>1.0</td>\n",
       "      <td>0.0</td>\n",
       "    </tr>\n",
       "    <tr>\n",
       "      <th>2</th>\n",
       "      <td>5</td>\n",
       "      <td>2009</td>\n",
       "      <td>5_2009</td>\n",
       "      <td>J</td>\n",
       "      <td>7</td>\n",
       "      <td>0</td>\n",
       "      <td>8</td>\n",
       "      <td>0</td>\n",
       "      <td>WILEY-V C H VERLAG GMBH</td>\n",
       "      <td>0.0</td>\n",
       "      <td>1.0</td>\n",
       "      <td>1.0</td>\n",
       "    </tr>\n",
       "    <tr>\n",
       "      <th>3</th>\n",
       "      <td>9</td>\n",
       "      <td>2009</td>\n",
       "      <td>9_2009</td>\n",
       "      <td>J</td>\n",
       "      <td>5</td>\n",
       "      <td>0</td>\n",
       "      <td>6</td>\n",
       "      <td>0</td>\n",
       "      <td>ELSEVIER SCIENCE SA</td>\n",
       "      <td>0.0</td>\n",
       "      <td>1.0</td>\n",
       "      <td>1.0</td>\n",
       "    </tr>\n",
       "    <tr>\n",
       "      <th>4</th>\n",
       "      <td>13</td>\n",
       "      <td>2009</td>\n",
       "      <td>13_2009</td>\n",
       "      <td>J</td>\n",
       "      <td>12</td>\n",
       "      <td>1</td>\n",
       "      <td>2</td>\n",
       "      <td>1</td>\n",
       "      <td>WILEY-V C H VERLAG GMBH</td>\n",
       "      <td>0.0</td>\n",
       "      <td>0.0</td>\n",
       "      <td>1.0</td>\n",
       "    </tr>\n",
       "  </tbody>\n",
       "</table>\n",
       "</div>"
      ],
      "text/plain": [
       "   Cluster_Topic    PY Topic_Year PT  PG  Have_Funding_Agency  Author_count  \\\n",
       "0              6  2009     6_2009  J   8                    1             2   \n",
       "1              2  2009     2_2009  J  10                    0             2   \n",
       "2              5  2009     5_2009  J   7                    0             8   \n",
       "3              9  2009     9_2009  J   5                    0             6   \n",
       "4             13  2009    13_2009  J  12                    1             2   \n",
       "\n",
       "   Funding_agency_count       Squeezed_Publisher  Contain_Top_All_authors  \\\n",
       "0                     3        AMER CHEMICAL SOC                      0.0   \n",
       "1                     0         Other Publishers                      0.0   \n",
       "2                     0  WILEY-V C H VERLAG GMBH                      0.0   \n",
       "3                     0      ELSEVIER SCIENCE SA                      0.0   \n",
       "4                     1  WILEY-V C H VERLAG GMBH                      0.0   \n",
       "\n",
       "   Contain_Top_All_funding_agencies  Contain_Top_PU  \n",
       "0                               0.0             1.0  \n",
       "1                               1.0             0.0  \n",
       "2                               1.0             1.0  \n",
       "3                               1.0             1.0  \n",
       "4                               0.0             1.0  "
      ]
     },
     "execution_count": 83,
     "metadata": {},
     "output_type": "execute_result"
    }
   ],
   "source": [
    "target_df.head()"
   ]
  },
  {
   "cell_type": "code",
   "execution_count": 84,
   "metadata": {},
   "outputs": [],
   "source": [
    "target_df.to_csv('final_data.csv',index=False)"
   ]
  },
  {
   "cell_type": "code",
   "execution_count": null,
   "metadata": {},
   "outputs": [],
   "source": []
  }
 ],
 "metadata": {
  "kernelspec": {
   "display_name": "Python 3",
   "language": "python",
   "name": "python3"
  },
  "language_info": {
   "codemirror_mode": {
    "name": "ipython",
    "version": 3
   },
   "file_extension": ".py",
   "mimetype": "text/x-python",
   "name": "python",
   "nbconvert_exporter": "python",
   "pygments_lexer": "ipython3",
   "version": "3.6.7"
  }
 },
 "nbformat": 4,
 "nbformat_minor": 2
}
