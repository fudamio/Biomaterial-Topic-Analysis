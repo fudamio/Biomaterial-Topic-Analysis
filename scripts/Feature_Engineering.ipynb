{
 "cells": [
  {
   "cell_type": "code",
   "execution_count": 1,
   "metadata": {},
   "outputs": [],
   "source": [
    "import pandas as pd\n",
    "import numpy as np"
   ]
  },
  {
   "cell_type": "code",
   "execution_count": 2,
   "metadata": {},
   "outputs": [],
   "source": [
    "data = pd.read_csv('topic_modeling.csv')\n",
    "#data = pd.read_csv('all.csv')"
   ]
  },
  {
   "cell_type": "code",
   "execution_count": 3,
   "metadata": {},
   "outputs": [
    {
     "data": {
      "text/html": [
       "<div>\n",
       "<style scoped>\n",
       "    .dataframe tbody tr th:only-of-type {\n",
       "        vertical-align: middle;\n",
       "    }\n",
       "\n",
       "    .dataframe tbody tr th {\n",
       "        vertical-align: top;\n",
       "    }\n",
       "\n",
       "    .dataframe thead th {\n",
       "        text-align: right;\n",
       "    }\n",
       "</style>\n",
       "<table border=\"1\" class=\"dataframe\">\n",
       "  <thead>\n",
       "    <tr style=\"text-align: right;\">\n",
       "      <th></th>\n",
       "      <th>Cluster_Topic</th>\n",
       "      <th>PY</th>\n",
       "      <th>Topic_Year</th>\n",
       "      <th>PT</th>\n",
       "      <th>AF</th>\n",
       "      <th>PU</th>\n",
       "      <th>FU</th>\n",
       "      <th>PA</th>\n",
       "      <th>PG</th>\n",
       "    </tr>\n",
       "  </thead>\n",
       "  <tbody>\n",
       "    <tr>\n",
       "      <th>0</th>\n",
       "      <td>0</td>\n",
       "      <td>2000</td>\n",
       "      <td>0_2000</td>\n",
       "      <td>J</td>\n",
       "      <td>Jandt, KD; Finke, M; Cacciafesta, P</td>\n",
       "      <td>ELSEVIER SCIENCE BV</td>\n",
       "      <td>NaN</td>\n",
       "      <td>PO BOX 211, 1000 AE AMSTERDAM, NETHERLANDS</td>\n",
       "      <td>14</td>\n",
       "    </tr>\n",
       "    <tr>\n",
       "      <th>1</th>\n",
       "      <td>7</td>\n",
       "      <td>2000</td>\n",
       "      <td>7_2000</td>\n",
       "      <td>J</td>\n",
       "      <td>Burger, J; Hummel, S; Herrmann, B</td>\n",
       "      <td>ELSEVIER SCIENCE BV</td>\n",
       "      <td>NaN</td>\n",
       "      <td>PO BOX 211, 1000 AE AMSTERDAM, NETHERLANDS</td>\n",
       "      <td>6</td>\n",
       "    </tr>\n",
       "    <tr>\n",
       "      <th>2</th>\n",
       "      <td>11</td>\n",
       "      <td>2000</td>\n",
       "      <td>11_2000</td>\n",
       "      <td>J</td>\n",
       "      <td>Kaibara, M; Takahashi, A; Kurotobi, K; Suzuki, Y</td>\n",
       "      <td>ELSEVIER SCIENCE BV</td>\n",
       "      <td>NaN</td>\n",
       "      <td>PO BOX 211, 1000 AE AMSTERDAM, NETHERLANDS</td>\n",
       "      <td>9</td>\n",
       "    </tr>\n",
       "    <tr>\n",
       "      <th>3</th>\n",
       "      <td>14</td>\n",
       "      <td>2000</td>\n",
       "      <td>14_2000</td>\n",
       "      <td>J</td>\n",
       "      <td>Mano, JF; Reis, RL; Cunha, AM</td>\n",
       "      <td>JOHN WILEY &amp; SONS INC</td>\n",
       "      <td>NaN</td>\n",
       "      <td>605 THIRD AVE, NEW YORK, NY 10158-0012 USA</td>\n",
       "      <td>13</td>\n",
       "    </tr>\n",
       "    <tr>\n",
       "      <th>4</th>\n",
       "      <td>5</td>\n",
       "      <td>2000</td>\n",
       "      <td>5_2000</td>\n",
       "      <td>J</td>\n",
       "      <td>Chrisey, DB; Pique, A; Modi, R; Wu, HD; Auyeun...</td>\n",
       "      <td>ELSEVIER SCIENCE BV</td>\n",
       "      <td>NaN</td>\n",
       "      <td>PO BOX 211, 1000 AE AMSTERDAM, NETHERLANDS</td>\n",
       "      <td>8</td>\n",
       "    </tr>\n",
       "  </tbody>\n",
       "</table>\n",
       "</div>"
      ],
      "text/plain": [
       "   Cluster_Topic    PY Topic_Year PT  \\\n",
       "0              0  2000     0_2000  J   \n",
       "1              7  2000     7_2000  J   \n",
       "2             11  2000    11_2000  J   \n",
       "3             14  2000    14_2000  J   \n",
       "4              5  2000     5_2000  J   \n",
       "\n",
       "                                                  AF                     PU  \\\n",
       "0                Jandt, KD; Finke, M; Cacciafesta, P    ELSEVIER SCIENCE BV   \n",
       "1                  Burger, J; Hummel, S; Herrmann, B    ELSEVIER SCIENCE BV   \n",
       "2   Kaibara, M; Takahashi, A; Kurotobi, K; Suzuki, Y    ELSEVIER SCIENCE BV   \n",
       "3                      Mano, JF; Reis, RL; Cunha, AM  JOHN WILEY & SONS INC   \n",
       "4  Chrisey, DB; Pique, A; Modi, R; Wu, HD; Auyeun...    ELSEVIER SCIENCE BV   \n",
       "\n",
       "    FU                                          PA  PG  \n",
       "0  NaN  PO BOX 211, 1000 AE AMSTERDAM, NETHERLANDS  14  \n",
       "1  NaN  PO BOX 211, 1000 AE AMSTERDAM, NETHERLANDS   6  \n",
       "2  NaN  PO BOX 211, 1000 AE AMSTERDAM, NETHERLANDS   9  \n",
       "3  NaN  605 THIRD AVE, NEW YORK, NY 10158-0012 USA  13  \n",
       "4  NaN  PO BOX 211, 1000 AE AMSTERDAM, NETHERLANDS   8  "
      ]
     },
     "execution_count": 3,
     "metadata": {},
     "output_type": "execute_result"
    }
   ],
   "source": [
    "#data = data[['PY','PT','AF','PU','FU','PA','PG']]\n",
    "data.head()"
   ]
  },
  {
   "cell_type": "code",
   "execution_count": 4,
   "metadata": {},
   "outputs": [
    {
     "data": {
      "text/plain": [
       "Cluster_Topic        0\n",
       "PY                   0\n",
       "Topic_Year           0\n",
       "PT                   0\n",
       "AF                   2\n",
       "PU                   1\n",
       "FU               20173\n",
       "PA                   1\n",
       "PG                   0\n",
       "dtype: int64"
      ]
     },
     "execution_count": 4,
     "metadata": {},
     "output_type": "execute_result"
    }
   ],
   "source": [
    "# Need to address missing data issue.\n",
    "data.isnull().sum()"
   ]
  },
  {
   "cell_type": "code",
   "execution_count": 5,
   "metadata": {},
   "outputs": [],
   "source": [
    "# PY contains two missing records.\n",
    "# Drop off these two records.\n",
    "#data = data.dropna(axis=0,subset=['PY'])"
   ]
  },
  {
   "cell_type": "markdown",
   "metadata": {},
   "source": [
    "# Top authors in each year\n",
    "- For each year, extract the top authors who contributed the most in the top list in terms of the number of publications in previous years.\n",
    "- For instance, to find the top authors in 2013, we should consider top authors who published before 2013 rather than only 2013."
   ]
  },
  {
   "cell_type": "code",
   "execution_count": 7,
   "metadata": {},
   "outputs": [],
   "source": [
    "# Impute missing values in 'AF' column.\n",
    "data['AF'].fillna('NA author', inplace=True)"
   ]
  },
  {
   "cell_type": "code",
   "execution_count": 8,
   "metadata": {},
   "outputs": [],
   "source": [
    "data['All_authors'] = data.AF.str.split(';')"
   ]
  },
  {
   "cell_type": "code",
   "execution_count": 9,
   "metadata": {},
   "outputs": [
    {
     "data": {
      "text/plain": [
       "0              [Jandt, KD,  Finke, M,  Cacciafesta, P]\n",
       "1                [Burger, J,  Hummel, S,  Herrmann, B]\n",
       "2    [Kaibara, M,  Takahashi, A,  Kurotobi, K,  Suz...\n",
       "3                    [Mano, JF,  Reis, RL,  Cunha, AM]\n",
       "4    [Chrisey, DB,  Pique, A,  Modi, R,  Wu, HD,  A...\n",
       "Name: All_authors, dtype: object"
      ]
     },
     "execution_count": 9,
     "metadata": {},
     "output_type": "execute_result"
    }
   ],
   "source": [
    "data['All_authors'].head()"
   ]
  },
  {
   "cell_type": "code",
   "execution_count": 10,
   "metadata": {},
   "outputs": [
    {
     "data": {
      "text/plain": [
       "Cluster_Topic        0\n",
       "PY                   0\n",
       "Topic_Year           0\n",
       "PT                   0\n",
       "AF                   0\n",
       "PU                   1\n",
       "FU               20173\n",
       "PA                   1\n",
       "PG                   0\n",
       "All_authors          0\n",
       "dtype: int64"
      ]
     },
     "execution_count": 10,
     "metadata": {},
     "output_type": "execute_result"
    }
   ],
   "source": [
    "# Make sure no missing value in 'AF' and 'All_authors'.\n",
    "data.isnull().sum()"
   ]
  },
  {
   "cell_type": "code",
   "execution_count": 11,
   "metadata": {},
   "outputs": [],
   "source": [
    "def top_author_in_year(year,index,dataframe):\n",
    "    '''\n",
    "    year: a target year.\n",
    "    index: an index number to determine how many top authors should be extracted.\n",
    "    dataframe: data stored in a pandas frame.\n",
    "    Output: Return a list of top authors before a target year given an index number.\n",
    "    '''\n",
    "    \n",
    "    df = dataframe\n",
    "    grouped_df_in_year = df[df['PY'] <= year]\n",
    "    author_in_year = grouped_df_in_year['All_authors']\n",
    "    author_count_dic = {}\n",
    "    for authors in author_in_year:\n",
    "        for author in authors:\n",
    "            if author not in author_count_dic:\n",
    "                author_count_dic[author.strip().replace('.','')] = 1\n",
    "            else: \n",
    "                author_count_dic[author.strip().replace('.','')] += 1\n",
    "    sorted_author_count_dic = sorted(author_count_dic.items(), key=lambda kv: kv[1])[::-1]\n",
    "    top_authors = []\n",
    "    for i in range(index):\n",
    "        top_authors.append(sorted_author_count_dic[i][0])\n",
    "        \n",
    "    # Consider 'tied' authors.\n",
    "    for each in sorted_author_count_dic[index:]:\n",
    "        if each[1] == sorted_author_count_dic[index-1][1]:\n",
    "            top_authors.append(each[0])\n",
    "        \n",
    "    return top_authors"
   ]
  },
  {
   "cell_type": "code",
   "execution_count": 12,
   "metadata": {
    "scrolled": true
   },
   "outputs": [],
   "source": [
    "# Collect top authors in each year.\n",
    "year = []\n",
    "top_authors = []\n",
    "for i in range(1973, 2020):\n",
    "    year.append(i)\n",
    "    top_authors.append(top_author_in_year(year=i-1,index=10,dataframe=data))"
   ]
  },
  {
   "cell_type": "code",
   "execution_count": 13,
   "metadata": {},
   "outputs": [
    {
     "data": {
      "text/html": [
       "<div>\n",
       "<style scoped>\n",
       "    .dataframe tbody tr th:only-of-type {\n",
       "        vertical-align: middle;\n",
       "    }\n",
       "\n",
       "    .dataframe tbody tr th {\n",
       "        vertical-align: top;\n",
       "    }\n",
       "\n",
       "    .dataframe thead th {\n",
       "        text-align: right;\n",
       "    }\n",
       "</style>\n",
       "<table border=\"1\" class=\"dataframe\">\n",
       "  <thead>\n",
       "    <tr style=\"text-align: right;\">\n",
       "      <th></th>\n",
       "      <th>PY</th>\n",
       "      <th>top_authors_in_previous_yrs</th>\n",
       "    </tr>\n",
       "  </thead>\n",
       "  <tbody>\n",
       "    <tr>\n",
       "      <th>0</th>\n",
       "      <td>1973</td>\n",
       "      <td>[SALZMAN, EW, MERRILL, EW, BRUCK, SD, VANHOEK,...</td>\n",
       "    </tr>\n",
       "    <tr>\n",
       "      <th>1</th>\n",
       "      <td>1974</td>\n",
       "      <td>[SALZMAN, EW, MERRILL, EW, BRUCK, SD, VANHOEK,...</td>\n",
       "    </tr>\n",
       "    <tr>\n",
       "      <th>2</th>\n",
       "      <td>1975</td>\n",
       "      <td>[SALZMAN, EW, MERRILL, EW, MASON, RG, ANDERSON...</td>\n",
       "    </tr>\n",
       "    <tr>\n",
       "      <th>3</th>\n",
       "      <td>1976</td>\n",
       "      <td>[MASON, RG, HULBERT, SF, SALZMAN, EW, MERRILL,...</td>\n",
       "    </tr>\n",
       "    <tr>\n",
       "      <th>4</th>\n",
       "      <td>1977</td>\n",
       "      <td>[MASON, RG, LEMONS, JE, WILLIAMS, DF, HULBERT,...</td>\n",
       "    </tr>\n",
       "  </tbody>\n",
       "</table>\n",
       "</div>"
      ],
      "text/plain": [
       "     PY                        top_authors_in_previous_yrs\n",
       "0  1973  [SALZMAN, EW, MERRILL, EW, BRUCK, SD, VANHOEK,...\n",
       "1  1974  [SALZMAN, EW, MERRILL, EW, BRUCK, SD, VANHOEK,...\n",
       "2  1975  [SALZMAN, EW, MERRILL, EW, MASON, RG, ANDERSON...\n",
       "3  1976  [MASON, RG, HULBERT, SF, SALZMAN, EW, MERRILL,...\n",
       "4  1977  [MASON, RG, LEMONS, JE, WILLIAMS, DF, HULBERT,..."
      ]
     },
     "execution_count": 13,
     "metadata": {},
     "output_type": "execute_result"
    }
   ],
   "source": [
    "top_author_df = pd.DataFrame({'PY': year, 'top_authors_in_previous_yrs': top_authors})\n",
    "top_author_df.head()"
   ]
  },
  {
   "cell_type": "code",
   "execution_count": 14,
   "metadata": {},
   "outputs": [
    {
     "data": {
      "text/plain": [
       "min    1973.0\n",
       "max    2019.0\n",
       "Name: PY, dtype: float64"
      ]
     },
     "execution_count": 14,
     "metadata": {},
     "output_type": "execute_result"
    }
   ],
   "source": [
    "# Make sure collect all top authors from every year.\n",
    "top_author_df.PY.describe()[['min','max']]"
   ]
  },
  {
   "cell_type": "markdown",
   "metadata": {},
   "source": [
    "# Top publishers in each year\n",
    "- For each year, extract top publishers which published the most in the top list in terms of the number of publications in previous years."
   ]
  },
  {
   "cell_type": "code",
   "execution_count": 15,
   "metadata": {},
   "outputs": [],
   "source": [
    "# Impute missing values in 'PU' column.\n",
    "data['PU'].fillna('NA publisher', inplace=True)"
   ]
  },
  {
   "cell_type": "code",
   "execution_count": 16,
   "metadata": {},
   "outputs": [
    {
     "data": {
      "text/plain": [
       "0"
      ]
     },
     "execution_count": 16,
     "metadata": {},
     "output_type": "execute_result"
    }
   ],
   "source": [
    "# Make sure no missing data in 'PU'.\n",
    "data['PU'].isnull().sum()"
   ]
  },
  {
   "cell_type": "code",
   "execution_count": 17,
   "metadata": {},
   "outputs": [],
   "source": [
    "def top_publisher_in_year(year,index,dataframe):\n",
    "    '''\n",
    "    year: a target year.\n",
    "    index: an index number to determine how many top publishers should be extracted.\n",
    "    dataframe: data stored in a pandas frame.\n",
    "    Output: Return a list of top publishers before a target year given an index number.\n",
    "    '''\n",
    "    \n",
    "    df = dataframe\n",
    "    grouped_df_in_year = df[df['PY'] <= year]\n",
    "    publisher_in_year = grouped_df_in_year['PU']\n",
    "    publisher_count_dic = {}\n",
    "    for publisher in publisher_in_year:\n",
    "        if publisher not in publisher_count_dic:\n",
    "            publisher_count_dic[publisher] = 1\n",
    "        else: \n",
    "            publisher_count_dic[publisher] += 1\n",
    "    \n",
    "    sorted_publisher_count_dic = sorted(publisher_count_dic.items(), key=lambda kv: kv[1])[::-1]\n",
    "    top_publishers = []\n",
    "    \n",
    "    if len(sorted_publisher_count_dic) < index:\n",
    "        for each in sorted_publisher_count_dic:\n",
    "            top_publishers.append(each[0])\n",
    "    else:    \n",
    "        for i in range(index):\n",
    "            top_publishers.append(sorted_publisher_count_dic[i][0])\n",
    "        \n",
    "    # Consider 'tied' publishers.\n",
    "    for each in sorted_publisher_count_dic[index:]:\n",
    "        if each[1] == sorted_publisher_count_dic[index-1][1]:\n",
    "            top_publishers.append(each[0])\n",
    "        \n",
    "    return top_publishers"
   ]
  },
  {
   "cell_type": "code",
   "execution_count": 18,
   "metadata": {},
   "outputs": [],
   "source": [
    "# Collect top publishers in each year.\n",
    "year = []\n",
    "top_publishers = []\n",
    "for i in range(1973, 2020):\n",
    "    year.append(i)\n",
    "    top_publishers.append(top_publisher_in_year(year=i-1,index=10,dataframe=data))"
   ]
  },
  {
   "cell_type": "code",
   "execution_count": 19,
   "metadata": {},
   "outputs": [],
   "source": [
    "top_publisher_df = pd.DataFrame({'PY': year, 'top_publishers_in_previous_yrs': top_publishers})"
   ]
  },
  {
   "cell_type": "code",
   "execution_count": 20,
   "metadata": {},
   "outputs": [
    {
     "data": {
      "text/html": [
       "<div>\n",
       "<style scoped>\n",
       "    .dataframe tbody tr th:only-of-type {\n",
       "        vertical-align: middle;\n",
       "    }\n",
       "\n",
       "    .dataframe tbody tr th {\n",
       "        vertical-align: top;\n",
       "    }\n",
       "\n",
       "    .dataframe thead th {\n",
       "        text-align: right;\n",
       "    }\n",
       "</style>\n",
       "<table border=\"1\" class=\"dataframe\">\n",
       "  <thead>\n",
       "    <tr style=\"text-align: right;\">\n",
       "      <th></th>\n",
       "      <th>PY</th>\n",
       "      <th>top_publishers_in_previous_yrs</th>\n",
       "    </tr>\n",
       "  </thead>\n",
       "  <tbody>\n",
       "    <tr>\n",
       "      <th>0</th>\n",
       "      <td>1973</td>\n",
       "      <td>[NEW YORK ACAD MEDICINE, AMER CHEMICAL SOC, GE...</td>\n",
       "    </tr>\n",
       "    <tr>\n",
       "      <th>1</th>\n",
       "      <td>1974</td>\n",
       "      <td>[NEW YORK ACAD MEDICINE, AMER CHEMICAL SOC, JO...</td>\n",
       "    </tr>\n",
       "    <tr>\n",
       "      <th>2</th>\n",
       "      <td>1975</td>\n",
       "      <td>[NEW YORK ACAD MEDICINE, JOHN WILEY &amp; SONS INC...</td>\n",
       "    </tr>\n",
       "    <tr>\n",
       "      <th>3</th>\n",
       "      <td>1976</td>\n",
       "      <td>[JOHN WILEY &amp; SONS INC, NEW YORK ACAD MEDICINE...</td>\n",
       "    </tr>\n",
       "    <tr>\n",
       "      <th>4</th>\n",
       "      <td>1977</td>\n",
       "      <td>[JOHN WILEY &amp; SONS INC, NEW YORK ACAD MEDICINE...</td>\n",
       "    </tr>\n",
       "  </tbody>\n",
       "</table>\n",
       "</div>"
      ],
      "text/plain": [
       "     PY                     top_publishers_in_previous_yrs\n",
       "0  1973  [NEW YORK ACAD MEDICINE, AMER CHEMICAL SOC, GE...\n",
       "1  1974  [NEW YORK ACAD MEDICINE, AMER CHEMICAL SOC, JO...\n",
       "2  1975  [NEW YORK ACAD MEDICINE, JOHN WILEY & SONS INC...\n",
       "3  1976  [JOHN WILEY & SONS INC, NEW YORK ACAD MEDICINE...\n",
       "4  1977  [JOHN WILEY & SONS INC, NEW YORK ACAD MEDICINE..."
      ]
     },
     "execution_count": 20,
     "metadata": {},
     "output_type": "execute_result"
    }
   ],
   "source": [
    "top_publisher_df.head()"
   ]
  },
  {
   "cell_type": "code",
   "execution_count": 21,
   "metadata": {},
   "outputs": [
    {
     "data": {
      "text/plain": [
       "min    1973.0\n",
       "max    2019.0\n",
       "Name: PY, dtype: float64"
      ]
     },
     "execution_count": 21,
     "metadata": {},
     "output_type": "execute_result"
    }
   ],
   "source": [
    "# Make sure collect all top publishers from every year.\n",
    "top_publisher_df.PY.describe()[['min','max']]"
   ]
  },
  {
   "cell_type": "markdown",
   "metadata": {},
   "source": [
    "# Top funding agencies in each year\n",
    "- For each year, extract the top funding agencies which funded the most in the top list in terms of the number of publications in previous years."
   ]
  },
  {
   "cell_type": "code",
   "execution_count": 22,
   "metadata": {},
   "outputs": [],
   "source": [
    "# Impute missing values in 'AF' column.\n",
    "data['FU'].fillna('NA funding agency', inplace=True)"
   ]
  },
  {
   "cell_type": "code",
   "execution_count": 23,
   "metadata": {},
   "outputs": [],
   "source": [
    "data['All_funding_agencies'] = data.FU.str.split(';')"
   ]
  },
  {
   "cell_type": "code",
   "execution_count": 24,
   "metadata": {},
   "outputs": [
    {
     "data": {
      "text/plain": [
       "0    [NA funding agency]\n",
       "1    [NA funding agency]\n",
       "2    [NA funding agency]\n",
       "3    [NA funding agency]\n",
       "4    [NA funding agency]\n",
       "Name: All_funding_agencies, dtype: object"
      ]
     },
     "execution_count": 24,
     "metadata": {},
     "output_type": "execute_result"
    }
   ],
   "source": [
    "data['All_funding_agencies'].head()"
   ]
  },
  {
   "cell_type": "code",
   "execution_count": 25,
   "metadata": {},
   "outputs": [
    {
     "data": {
      "text/plain": [
       "Cluster_Topic           0\n",
       "PY                      0\n",
       "Topic_Year              0\n",
       "PT                      0\n",
       "AF                      0\n",
       "PU                      0\n",
       "FU                      0\n",
       "PA                      1\n",
       "PG                      0\n",
       "All_authors             0\n",
       "All_funding_agencies    0\n",
       "dtype: int64"
      ]
     },
     "execution_count": 25,
     "metadata": {},
     "output_type": "execute_result"
    }
   ],
   "source": [
    "# Make sure no missing data in 'FU' and 'All_funding_agencies'.\n",
    "data.isnull().sum()"
   ]
  },
  {
   "cell_type": "code",
   "execution_count": 26,
   "metadata": {},
   "outputs": [],
   "source": [
    "def top_funding_agency_in_year(year,index,dataframe):\n",
    "    '''\n",
    "    year: a target year.\n",
    "    index: an index number to determine how many top funding agencies should be extracted.\n",
    "    dataframe: data stored in a pandas frame.\n",
    "    Output: Return a list of top funding agencies before a target year given an index number.\n",
    "    '''\n",
    "    \n",
    "    df = dataframe\n",
    "    grouped_df_in_year = df[df['PY'] <= year]\n",
    "    funding_agency_in_year = grouped_df_in_year['All_funding_agencies']\n",
    "    funding_agency_count_dic = {}\n",
    "    \n",
    "    for funding_agencies in funding_agency_in_year:\n",
    "        for funding_agency in funding_agencies:\n",
    "            if funding_agency not in funding_agency_count_dic:\n",
    "                funding_agency_count_dic[funding_agency] = 1\n",
    "            else: \n",
    "                funding_agency_count_dic[funding_agency] += 1\n",
    "                \n",
    "    sorted_funding_agency_count_dic = sorted(funding_agency_count_dic.items(), key=lambda kv: kv[1])[::-1][1:]\n",
    "    top_funding_agencies = []\n",
    "    \n",
    "    if len(sorted_funding_agency_count_dic) < index:\n",
    "        for each in sorted_funding_agency_count_dic:\n",
    "            top_funding_agencies.append(each[0])\n",
    "    else:    \n",
    "        for i in range(index):\n",
    "            top_funding_agencies.append(sorted_funding_agency_count_dic[i][0])\n",
    "        \n",
    "    # Consider 'tied' funding agencies.\n",
    "    for each in sorted_funding_agency_count_dic[index:]:\n",
    "        if each[1] == sorted_funding_agency_count_dic[index-1][1]:\n",
    "            top_funding_agencies.append(each[0])\n",
    "        \n",
    "    return top_funding_agencies"
   ]
  },
  {
   "cell_type": "code",
   "execution_count": 27,
   "metadata": {},
   "outputs": [],
   "source": [
    "# Collect top funding agencies in each year.\n",
    "year = []\n",
    "top_funding_agencies = []\n",
    "for i in range(1973, 2020):\n",
    "    year.append(i)\n",
    "    top_funding_agencies.append(top_funding_agency_in_year(year=i-1,index=10,dataframe=data))"
   ]
  },
  {
   "cell_type": "code",
   "execution_count": 28,
   "metadata": {},
   "outputs": [],
   "source": [
    "top_funding_agency_df = pd.DataFrame({'PY': year, 'top_funding_agency_in_previous_yrs': top_funding_agencies})"
   ]
  },
  {
   "cell_type": "code",
   "execution_count": 29,
   "metadata": {},
   "outputs": [
    {
     "data": {
      "text/html": [
       "<div>\n",
       "<style scoped>\n",
       "    .dataframe tbody tr th:only-of-type {\n",
       "        vertical-align: middle;\n",
       "    }\n",
       "\n",
       "    .dataframe tbody tr th {\n",
       "        vertical-align: top;\n",
       "    }\n",
       "\n",
       "    .dataframe thead th {\n",
       "        text-align: right;\n",
       "    }\n",
       "</style>\n",
       "<table border=\"1\" class=\"dataframe\">\n",
       "  <thead>\n",
       "    <tr style=\"text-align: right;\">\n",
       "      <th></th>\n",
       "      <th>PY</th>\n",
       "      <th>top_funding_agency_in_previous_yrs</th>\n",
       "    </tr>\n",
       "  </thead>\n",
       "  <tbody>\n",
       "    <tr>\n",
       "      <th>0</th>\n",
       "      <td>1973</td>\n",
       "      <td>[]</td>\n",
       "    </tr>\n",
       "    <tr>\n",
       "      <th>1</th>\n",
       "      <td>1974</td>\n",
       "      <td>[]</td>\n",
       "    </tr>\n",
       "    <tr>\n",
       "      <th>2</th>\n",
       "      <td>1975</td>\n",
       "      <td>[]</td>\n",
       "    </tr>\n",
       "    <tr>\n",
       "      <th>3</th>\n",
       "      <td>1976</td>\n",
       "      <td>[]</td>\n",
       "    </tr>\n",
       "    <tr>\n",
       "      <th>4</th>\n",
       "      <td>1977</td>\n",
       "      <td>[]</td>\n",
       "    </tr>\n",
       "    <tr>\n",
       "      <th>5</th>\n",
       "      <td>1978</td>\n",
       "      <td>[]</td>\n",
       "    </tr>\n",
       "    <tr>\n",
       "      <th>6</th>\n",
       "      <td>1979</td>\n",
       "      <td>[]</td>\n",
       "    </tr>\n",
       "    <tr>\n",
       "      <th>7</th>\n",
       "      <td>1980</td>\n",
       "      <td>[]</td>\n",
       "    </tr>\n",
       "    <tr>\n",
       "      <th>8</th>\n",
       "      <td>1981</td>\n",
       "      <td>[NIGMS NIH HHS [GM 24380]]</td>\n",
       "    </tr>\n",
       "    <tr>\n",
       "      <th>9</th>\n",
       "      <td>1982</td>\n",
       "      <td>[NIGMS NIH HHS [GM 24380], NHLBI NIH HHS [N01-...</td>\n",
       "    </tr>\n",
       "  </tbody>\n",
       "</table>\n",
       "</div>"
      ],
      "text/plain": [
       "     PY                 top_funding_agency_in_previous_yrs\n",
       "0  1973                                                 []\n",
       "1  1974                                                 []\n",
       "2  1975                                                 []\n",
       "3  1976                                                 []\n",
       "4  1977                                                 []\n",
       "5  1978                                                 []\n",
       "6  1979                                                 []\n",
       "7  1980                                                 []\n",
       "8  1981                         [NIGMS NIH HHS [GM 24380]]\n",
       "9  1982  [NIGMS NIH HHS [GM 24380], NHLBI NIH HHS [N01-..."
      ]
     },
     "execution_count": 29,
     "metadata": {},
     "output_type": "execute_result"
    }
   ],
   "source": [
    "# From 1973 to 1980, there were no funding agencies.\n",
    "top_funding_agency_df.head(10)"
   ]
  },
  {
   "cell_type": "markdown",
   "metadata": {},
   "source": [
    "# Have funding agency\n",
    "- Because originally, there are many missing data in 'FU'. Create a boolean type of variable to indicate whether there is a funding agency or not."
   ]
  },
  {
   "cell_type": "code",
   "execution_count": 30,
   "metadata": {},
   "outputs": [],
   "source": [
    "def have_funding_agency(x):\n",
    "    if x == 'NA funding agency':\n",
    "        return 0\n",
    "    else:\n",
    "        if type(x) == list:\n",
    "            return len(x)\n",
    "        else:\n",
    "            return 1"
   ]
  },
  {
   "cell_type": "code",
   "execution_count": 31,
   "metadata": {},
   "outputs": [],
   "source": [
    "data['Have_Funding_Agency'] = data['FU'].apply(have_funding_agency)"
   ]
  },
  {
   "cell_type": "code",
   "execution_count": 32,
   "metadata": {},
   "outputs": [
    {
     "data": {
      "text/html": [
       "<div>\n",
       "<style scoped>\n",
       "    .dataframe tbody tr th:only-of-type {\n",
       "        vertical-align: middle;\n",
       "    }\n",
       "\n",
       "    .dataframe tbody tr th {\n",
       "        vertical-align: top;\n",
       "    }\n",
       "\n",
       "    .dataframe thead th {\n",
       "        text-align: right;\n",
       "    }\n",
       "</style>\n",
       "<table border=\"1\" class=\"dataframe\">\n",
       "  <thead>\n",
       "    <tr style=\"text-align: right;\">\n",
       "      <th></th>\n",
       "      <th>FU</th>\n",
       "      <th>Have_Funding_Agency</th>\n",
       "    </tr>\n",
       "  </thead>\n",
       "  <tbody>\n",
       "    <tr>\n",
       "      <th>0</th>\n",
       "      <td>NA funding agency</td>\n",
       "      <td>0</td>\n",
       "    </tr>\n",
       "    <tr>\n",
       "      <th>1</th>\n",
       "      <td>NA funding agency</td>\n",
       "      <td>0</td>\n",
       "    </tr>\n",
       "    <tr>\n",
       "      <th>2</th>\n",
       "      <td>NA funding agency</td>\n",
       "      <td>0</td>\n",
       "    </tr>\n",
       "    <tr>\n",
       "      <th>3</th>\n",
       "      <td>NA funding agency</td>\n",
       "      <td>0</td>\n",
       "    </tr>\n",
       "    <tr>\n",
       "      <th>4</th>\n",
       "      <td>NA funding agency</td>\n",
       "      <td>0</td>\n",
       "    </tr>\n",
       "    <tr>\n",
       "      <th>5</th>\n",
       "      <td>NA funding agency</td>\n",
       "      <td>0</td>\n",
       "    </tr>\n",
       "    <tr>\n",
       "      <th>6</th>\n",
       "      <td>NIDCR NIH HHS [DE12350, DE02848]</td>\n",
       "      <td>1</td>\n",
       "    </tr>\n",
       "    <tr>\n",
       "      <th>7</th>\n",
       "      <td>NA funding agency</td>\n",
       "      <td>0</td>\n",
       "    </tr>\n",
       "    <tr>\n",
       "      <th>8</th>\n",
       "      <td>NA funding agency</td>\n",
       "      <td>0</td>\n",
       "    </tr>\n",
       "    <tr>\n",
       "      <th>9</th>\n",
       "      <td>NA funding agency</td>\n",
       "      <td>0</td>\n",
       "    </tr>\n",
       "  </tbody>\n",
       "</table>\n",
       "</div>"
      ],
      "text/plain": [
       "                                 FU  Have_Funding_Agency\n",
       "0                 NA funding agency                    0\n",
       "1                 NA funding agency                    0\n",
       "2                 NA funding agency                    0\n",
       "3                 NA funding agency                    0\n",
       "4                 NA funding agency                    0\n",
       "5                 NA funding agency                    0\n",
       "6  NIDCR NIH HHS [DE12350, DE02848]                    1\n",
       "7                 NA funding agency                    0\n",
       "8                 NA funding agency                    0\n",
       "9                 NA funding agency                    0"
      ]
     },
     "execution_count": 32,
     "metadata": {},
     "output_type": "execute_result"
    }
   ],
   "source": [
    "data[['FU','Have_Funding_Agency']].head(10)"
   ]
  },
  {
   "cell_type": "markdown",
   "metadata": {},
   "source": [
    "# Count of author\n",
    "- Publications might have several authors so perhaps more authors could bring more attentation on their publications."
   ]
  },
  {
   "cell_type": "code",
   "execution_count": 33,
   "metadata": {
    "scrolled": true
   },
   "outputs": [],
   "source": [
    "data['Author_count'] = data['All_authors'].apply(len)"
   ]
  },
  {
   "cell_type": "code",
   "execution_count": 34,
   "metadata": {
    "scrolled": false
   },
   "outputs": [
    {
     "data": {
      "text/html": [
       "<div>\n",
       "<style scoped>\n",
       "    .dataframe tbody tr th:only-of-type {\n",
       "        vertical-align: middle;\n",
       "    }\n",
       "\n",
       "    .dataframe tbody tr th {\n",
       "        vertical-align: top;\n",
       "    }\n",
       "\n",
       "    .dataframe thead th {\n",
       "        text-align: right;\n",
       "    }\n",
       "</style>\n",
       "<table border=\"1\" class=\"dataframe\">\n",
       "  <thead>\n",
       "    <tr style=\"text-align: right;\">\n",
       "      <th></th>\n",
       "      <th>All_authors</th>\n",
       "      <th>Author_count</th>\n",
       "    </tr>\n",
       "  </thead>\n",
       "  <tbody>\n",
       "    <tr>\n",
       "      <th>0</th>\n",
       "      <td>[Jandt, KD,  Finke, M,  Cacciafesta, P]</td>\n",
       "      <td>3</td>\n",
       "    </tr>\n",
       "    <tr>\n",
       "      <th>1</th>\n",
       "      <td>[Burger, J,  Hummel, S,  Herrmann, B]</td>\n",
       "      <td>3</td>\n",
       "    </tr>\n",
       "    <tr>\n",
       "      <th>2</th>\n",
       "      <td>[Kaibara, M,  Takahashi, A,  Kurotobi, K,  Suz...</td>\n",
       "      <td>4</td>\n",
       "    </tr>\n",
       "    <tr>\n",
       "      <th>3</th>\n",
       "      <td>[Mano, JF,  Reis, RL,  Cunha, AM]</td>\n",
       "      <td>3</td>\n",
       "    </tr>\n",
       "    <tr>\n",
       "      <th>4</th>\n",
       "      <td>[Chrisey, DB,  Pique, A,  Modi, R,  Wu, HD,  A...</td>\n",
       "      <td>6</td>\n",
       "    </tr>\n",
       "    <tr>\n",
       "      <th>5</th>\n",
       "      <td>[Nkamgueu, EM,  Adnet, JJ,  Bernard, J,  Ziero...</td>\n",
       "      <td>8</td>\n",
       "    </tr>\n",
       "    <tr>\n",
       "      <th>6</th>\n",
       "      <td>[Wen, HB,  Moradian-Oldak, J,  Zhong, JP,  Gre...</td>\n",
       "      <td>5</td>\n",
       "    </tr>\n",
       "    <tr>\n",
       "      <th>7</th>\n",
       "      <td>[Ding, YM]</td>\n",
       "      <td>1</td>\n",
       "    </tr>\n",
       "    <tr>\n",
       "      <th>8</th>\n",
       "      <td>[Hirsch, R,  Katz, E,  Willner, I]</td>\n",
       "      <td>3</td>\n",
       "    </tr>\n",
       "    <tr>\n",
       "      <th>9</th>\n",
       "      <td>[Chapekar, MS]</td>\n",
       "      <td>1</td>\n",
       "    </tr>\n",
       "  </tbody>\n",
       "</table>\n",
       "</div>"
      ],
      "text/plain": [
       "                                         All_authors  Author_count\n",
       "0            [Jandt, KD,  Finke, M,  Cacciafesta, P]             3\n",
       "1              [Burger, J,  Hummel, S,  Herrmann, B]             3\n",
       "2  [Kaibara, M,  Takahashi, A,  Kurotobi, K,  Suz...             4\n",
       "3                  [Mano, JF,  Reis, RL,  Cunha, AM]             3\n",
       "4  [Chrisey, DB,  Pique, A,  Modi, R,  Wu, HD,  A...             6\n",
       "5  [Nkamgueu, EM,  Adnet, JJ,  Bernard, J,  Ziero...             8\n",
       "6  [Wen, HB,  Moradian-Oldak, J,  Zhong, JP,  Gre...             5\n",
       "7                                         [Ding, YM]             1\n",
       "8                 [Hirsch, R,  Katz, E,  Willner, I]             3\n",
       "9                                     [Chapekar, MS]             1"
      ]
     },
     "execution_count": 34,
     "metadata": {},
     "output_type": "execute_result"
    }
   ],
   "source": [
    "data[['All_authors','Author_count']].head(10)"
   ]
  },
  {
   "cell_type": "markdown",
   "metadata": {},
   "source": [
    "# Count of funding agency\n",
    "- Number of funding agency. Probably, more funding agencies to sponsor a publication could bring more attentation on it."
   ]
  },
  {
   "cell_type": "code",
   "execution_count": 35,
   "metadata": {},
   "outputs": [],
   "source": [
    "def count_funding_agency(x):\n",
    "    if x == ['NA funding agency']:\n",
    "        return 0\n",
    "    else:\n",
    "        return len(x)"
   ]
  },
  {
   "cell_type": "code",
   "execution_count": 36,
   "metadata": {
    "scrolled": true
   },
   "outputs": [],
   "source": [
    "data['Funding_agency_count'] = data['All_funding_agencies'].apply(count_funding_agency)"
   ]
  },
  {
   "cell_type": "code",
   "execution_count": 37,
   "metadata": {},
   "outputs": [
    {
     "data": {
      "text/html": [
       "<div>\n",
       "<style scoped>\n",
       "    .dataframe tbody tr th:only-of-type {\n",
       "        vertical-align: middle;\n",
       "    }\n",
       "\n",
       "    .dataframe tbody tr th {\n",
       "        vertical-align: top;\n",
       "    }\n",
       "\n",
       "    .dataframe thead th {\n",
       "        text-align: right;\n",
       "    }\n",
       "</style>\n",
       "<table border=\"1\" class=\"dataframe\">\n",
       "  <thead>\n",
       "    <tr style=\"text-align: right;\">\n",
       "      <th></th>\n",
       "      <th>Funding_agency_count</th>\n",
       "      <th>All_funding_agencies</th>\n",
       "    </tr>\n",
       "  </thead>\n",
       "  <tbody>\n",
       "    <tr>\n",
       "      <th>0</th>\n",
       "      <td>0</td>\n",
       "      <td>[NA funding agency]</td>\n",
       "    </tr>\n",
       "    <tr>\n",
       "      <th>1</th>\n",
       "      <td>0</td>\n",
       "      <td>[NA funding agency]</td>\n",
       "    </tr>\n",
       "    <tr>\n",
       "      <th>2</th>\n",
       "      <td>0</td>\n",
       "      <td>[NA funding agency]</td>\n",
       "    </tr>\n",
       "    <tr>\n",
       "      <th>3</th>\n",
       "      <td>0</td>\n",
       "      <td>[NA funding agency]</td>\n",
       "    </tr>\n",
       "    <tr>\n",
       "      <th>4</th>\n",
       "      <td>0</td>\n",
       "      <td>[NA funding agency]</td>\n",
       "    </tr>\n",
       "    <tr>\n",
       "      <th>5</th>\n",
       "      <td>0</td>\n",
       "      <td>[NA funding agency]</td>\n",
       "    </tr>\n",
       "    <tr>\n",
       "      <th>6</th>\n",
       "      <td>1</td>\n",
       "      <td>[NIDCR NIH HHS [DE12350, DE02848]]</td>\n",
       "    </tr>\n",
       "    <tr>\n",
       "      <th>7</th>\n",
       "      <td>0</td>\n",
       "      <td>[NA funding agency]</td>\n",
       "    </tr>\n",
       "    <tr>\n",
       "      <th>8</th>\n",
       "      <td>0</td>\n",
       "      <td>[NA funding agency]</td>\n",
       "    </tr>\n",
       "    <tr>\n",
       "      <th>9</th>\n",
       "      <td>0</td>\n",
       "      <td>[NA funding agency]</td>\n",
       "    </tr>\n",
       "  </tbody>\n",
       "</table>\n",
       "</div>"
      ],
      "text/plain": [
       "   Funding_agency_count                All_funding_agencies\n",
       "0                     0                 [NA funding agency]\n",
       "1                     0                 [NA funding agency]\n",
       "2                     0                 [NA funding agency]\n",
       "3                     0                 [NA funding agency]\n",
       "4                     0                 [NA funding agency]\n",
       "5                     0                 [NA funding agency]\n",
       "6                     1  [NIDCR NIH HHS [DE12350, DE02848]]\n",
       "7                     0                 [NA funding agency]\n",
       "8                     0                 [NA funding agency]\n",
       "9                     0                 [NA funding agency]"
      ]
     },
     "execution_count": 37,
     "metadata": {},
     "output_type": "execute_result"
    }
   ],
   "source": [
    "data[['Funding_agency_count', 'All_funding_agencies']].head(10)"
   ]
  },
  {
   "cell_type": "markdown",
   "metadata": {},
   "source": [
    "# Publisher\n",
    "- Lower down the levels in Publisher into seven levels by only considering top publishers in recent years from 2008 to 2018."
   ]
  },
  {
   "cell_type": "code",
   "execution_count": 38,
   "metadata": {
    "scrolled": true
   },
   "outputs": [],
   "source": [
    "def squeeze_publisher(x):\n",
    "    top_publishers = ['ELSEVIER SCI LTD', 'ELSEVIER SCIENCE BV', 'AMER CHEMICAL SOC', 'WILEY',\\\n",
    "                      'SPRINGER', 'WILEY-BLACKWELL', 'ROYAL SOC CHEMISTRY', 'WILEY-V C H VERLAG GMBH',\\\n",
    "                      'ELSEVIER SCIENCE SA', 'PERGAMON-ELSEVIER SCIENCE LTD']\n",
    "    if x.strip().upper() in top_publishers:\n",
    "        return x.strip().upper()\n",
    "    else:\n",
    "        return 'Other Publishers'"
   ]
  },
  {
   "cell_type": "code",
   "execution_count": 39,
   "metadata": {},
   "outputs": [],
   "source": [
    "data['Squeezed_Publisher'] = data.PU.apply(squeeze_publisher)"
   ]
  },
  {
   "cell_type": "code",
   "execution_count": 40,
   "metadata": {},
   "outputs": [
    {
     "data": {
      "text/html": [
       "<div>\n",
       "<style scoped>\n",
       "    .dataframe tbody tr th:only-of-type {\n",
       "        vertical-align: middle;\n",
       "    }\n",
       "\n",
       "    .dataframe tbody tr th {\n",
       "        vertical-align: top;\n",
       "    }\n",
       "\n",
       "    .dataframe thead th {\n",
       "        text-align: right;\n",
       "    }\n",
       "</style>\n",
       "<table border=\"1\" class=\"dataframe\">\n",
       "  <thead>\n",
       "    <tr style=\"text-align: right;\">\n",
       "      <th></th>\n",
       "      <th>PU</th>\n",
       "      <th>Squeezed_Publisher</th>\n",
       "    </tr>\n",
       "  </thead>\n",
       "  <tbody>\n",
       "    <tr>\n",
       "      <th>0</th>\n",
       "      <td>ELSEVIER SCIENCE BV</td>\n",
       "      <td>ELSEVIER SCIENCE BV</td>\n",
       "    </tr>\n",
       "    <tr>\n",
       "      <th>1</th>\n",
       "      <td>ELSEVIER SCIENCE BV</td>\n",
       "      <td>ELSEVIER SCIENCE BV</td>\n",
       "    </tr>\n",
       "    <tr>\n",
       "      <th>2</th>\n",
       "      <td>ELSEVIER SCIENCE BV</td>\n",
       "      <td>ELSEVIER SCIENCE BV</td>\n",
       "    </tr>\n",
       "    <tr>\n",
       "      <th>3</th>\n",
       "      <td>JOHN WILEY &amp; SONS INC</td>\n",
       "      <td>Other Publishers</td>\n",
       "    </tr>\n",
       "    <tr>\n",
       "      <th>4</th>\n",
       "      <td>ELSEVIER SCIENCE BV</td>\n",
       "      <td>ELSEVIER SCIENCE BV</td>\n",
       "    </tr>\n",
       "    <tr>\n",
       "      <th>5</th>\n",
       "      <td>JOHN WILEY &amp; SONS INC</td>\n",
       "      <td>Other Publishers</td>\n",
       "    </tr>\n",
       "    <tr>\n",
       "      <th>6</th>\n",
       "      <td>JOHN WILEY &amp; SONS INC</td>\n",
       "      <td>Other Publishers</td>\n",
       "    </tr>\n",
       "    <tr>\n",
       "      <th>7</th>\n",
       "      <td>AMER ASSOC ADVANCEMENT SCIENCE</td>\n",
       "      <td>Other Publishers</td>\n",
       "    </tr>\n",
       "    <tr>\n",
       "      <th>8</th>\n",
       "      <td>AMER CHEMICAL SOC</td>\n",
       "      <td>AMER CHEMICAL SOC</td>\n",
       "    </tr>\n",
       "    <tr>\n",
       "      <th>9</th>\n",
       "      <td>JOHN WILEY &amp; SONS INC</td>\n",
       "      <td>Other Publishers</td>\n",
       "    </tr>\n",
       "  </tbody>\n",
       "</table>\n",
       "</div>"
      ],
      "text/plain": [
       "                               PU   Squeezed_Publisher\n",
       "0             ELSEVIER SCIENCE BV  ELSEVIER SCIENCE BV\n",
       "1             ELSEVIER SCIENCE BV  ELSEVIER SCIENCE BV\n",
       "2             ELSEVIER SCIENCE BV  ELSEVIER SCIENCE BV\n",
       "3           JOHN WILEY & SONS INC     Other Publishers\n",
       "4             ELSEVIER SCIENCE BV  ELSEVIER SCIENCE BV\n",
       "5           JOHN WILEY & SONS INC     Other Publishers\n",
       "6           JOHN WILEY & SONS INC     Other Publishers\n",
       "7  AMER ASSOC ADVANCEMENT SCIENCE     Other Publishers\n",
       "8               AMER CHEMICAL SOC    AMER CHEMICAL SOC\n",
       "9           JOHN WILEY & SONS INC     Other Publishers"
      ]
     },
     "execution_count": 40,
     "metadata": {},
     "output_type": "execute_result"
    }
   ],
   "source": [
    "data[['PU','Squeezed_Publisher']].head(10)"
   ]
  },
  {
   "cell_type": "code",
   "execution_count": 41,
   "metadata": {},
   "outputs": [
    {
     "data": {
      "text/plain": [
       "11"
      ]
     },
     "execution_count": 41,
     "metadata": {},
     "output_type": "execute_result"
    }
   ],
   "source": [
    "# Make sure the transformation is correct!\n",
    "# Must be 11 levels.\n",
    "len(data.Squeezed_Publisher.unique())"
   ]
  },
  {
   "cell_type": "markdown",
   "metadata": {},
   "source": [
    "# Country (Skipped this part)"
   ]
  },
  {
   "cell_type": "code",
   "execution_count": null,
   "metadata": {},
   "outputs": [],
   "source": [
    "# Impute missing values in 'PA' column.\n",
    "data['PA'].fillna('NA country', inplace=True)"
   ]
  },
  {
   "cell_type": "code",
   "execution_count": null,
   "metadata": {},
   "outputs": [],
   "source": [
    "def extract_country(x):\n",
    "    target_country = ('usa','china','germany','japan','england','italy','korea',\\\n",
    "                      'france','india','canada','spain','australia','netherlands','portugal',\\\n",
    "                      'switzerland','sweden')\n",
    "    split_country = x.strip().lower().split(' ')\n",
    "    if any(each in target_country for each in split_country):\n",
    "        if split_country[-1] in target_country:\n",
    "            return split_country[-1].upper()\n",
    "        elif split_country[-2] in target_country:\n",
    "            return split_country[-2].upper()\n",
    "        elif split_country[-3] in target_country:\n",
    "            return split_country[-3].upper()\n",
    "    else:\n",
    "        return 'Other countries'\n",
    "        \n",
    "        #search_country = x.split(' ')\n",
    "        #total_len = len(search_country)\n",
    "        #for i in range(total_len):\n",
    "            #if search_country[i] in target_country:\n",
    "                #final_country = search_country[i]\n",
    "                \n",
    "                #return final_country"
   ]
  },
  {
   "cell_type": "markdown",
   "metadata": {},
   "source": [
    "# Final Data"
   ]
  },
  {
   "cell_type": "code",
   "execution_count": 42,
   "metadata": {},
   "outputs": [
    {
     "name": "stdout",
     "output_type": "stream",
     "text": [
      "     PY                        top_authors_in_previous_yrs\n",
      "0  1973  [SALZMAN, EW, MERRILL, EW, BRUCK, SD, VANHOEK,...\n",
      "1  1974  [SALZMAN, EW, MERRILL, EW, BRUCK, SD, VANHOEK,...\n",
      "2  1975  [SALZMAN, EW, MERRILL, EW, MASON, RG, ANDERSON...\n",
      "3  1976  [MASON, RG, HULBERT, SF, SALZMAN, EW, MERRILL,...\n",
      "4  1977  [MASON, RG, LEMONS, JE, WILLIAMS, DF, HULBERT,...\n",
      "     PY                     top_publishers_in_previous_yrs\n",
      "0  1973  [NEW YORK ACAD MEDICINE, AMER CHEMICAL SOC, GE...\n",
      "1  1974  [NEW YORK ACAD MEDICINE, AMER CHEMICAL SOC, JO...\n",
      "2  1975  [NEW YORK ACAD MEDICINE, JOHN WILEY & SONS INC...\n",
      "3  1976  [JOHN WILEY & SONS INC, NEW YORK ACAD MEDICINE...\n",
      "4  1977  [JOHN WILEY & SONS INC, NEW YORK ACAD MEDICINE...\n",
      "     PY top_funding_agency_in_previous_yrs\n",
      "0  1973                                 []\n",
      "1  1974                                 []\n",
      "2  1975                                 []\n",
      "3  1976                                 []\n",
      "4  1977                                 []\n"
     ]
    }
   ],
   "source": [
    "# First merge the original dataframe with new feature each by each on the key 'PY' (or year).\n",
    "print(top_author_df.head())\n",
    "print(top_publisher_df.head())\n",
    "print(top_funding_agency_df.head())"
   ]
  },
  {
   "cell_type": "code",
   "execution_count": 43,
   "metadata": {},
   "outputs": [
    {
     "data": {
      "text/plain": [
       "(46169, 15)"
      ]
     },
     "execution_count": 43,
     "metadata": {},
     "output_type": "execute_result"
    }
   ],
   "source": [
    "# Shape before merging.\n",
    "data.shape"
   ]
  },
  {
   "cell_type": "code",
   "execution_count": 44,
   "metadata": {},
   "outputs": [
    {
     "data": {
      "text/plain": [
       "(46169, 18)"
      ]
     },
     "execution_count": 44,
     "metadata": {},
     "output_type": "execute_result"
    }
   ],
   "source": [
    "new_data = pd.merge(data, top_author_df, on='PY', how='left')\n",
    "new_data = pd.merge(new_data, top_publisher_df, on='PY', how='left')\n",
    "new_data = pd.merge(new_data, top_funding_agency_df, on='PY', how='left')\n",
    "new_data.shape"
   ]
  },
  {
   "cell_type": "code",
   "execution_count": 45,
   "metadata": {},
   "outputs": [
    {
     "data": {
      "text/html": [
       "<div>\n",
       "<style scoped>\n",
       "    .dataframe tbody tr th:only-of-type {\n",
       "        vertical-align: middle;\n",
       "    }\n",
       "\n",
       "    .dataframe tbody tr th {\n",
       "        vertical-align: top;\n",
       "    }\n",
       "\n",
       "    .dataframe thead th {\n",
       "        text-align: right;\n",
       "    }\n",
       "</style>\n",
       "<table border=\"1\" class=\"dataframe\">\n",
       "  <thead>\n",
       "    <tr style=\"text-align: right;\">\n",
       "      <th></th>\n",
       "      <th>Cluster_Topic</th>\n",
       "      <th>PY</th>\n",
       "      <th>Topic_Year</th>\n",
       "      <th>PT</th>\n",
       "      <th>AF</th>\n",
       "      <th>PU</th>\n",
       "      <th>FU</th>\n",
       "      <th>PA</th>\n",
       "      <th>PG</th>\n",
       "      <th>All_authors</th>\n",
       "      <th>All_funding_agencies</th>\n",
       "      <th>Have_Funding_Agency</th>\n",
       "      <th>Author_count</th>\n",
       "      <th>Funding_agency_count</th>\n",
       "      <th>Squeezed_Publisher</th>\n",
       "      <th>top_authors_in_previous_yrs</th>\n",
       "      <th>top_publishers_in_previous_yrs</th>\n",
       "      <th>top_funding_agency_in_previous_yrs</th>\n",
       "    </tr>\n",
       "  </thead>\n",
       "  <tbody>\n",
       "    <tr>\n",
       "      <th>0</th>\n",
       "      <td>0</td>\n",
       "      <td>2000</td>\n",
       "      <td>0_2000</td>\n",
       "      <td>J</td>\n",
       "      <td>Jandt, KD; Finke, M; Cacciafesta, P</td>\n",
       "      <td>ELSEVIER SCIENCE BV</td>\n",
       "      <td>NA funding agency</td>\n",
       "      <td>PO BOX 211, 1000 AE AMSTERDAM, NETHERLANDS</td>\n",
       "      <td>14</td>\n",
       "      <td>[Jandt, KD,  Finke, M,  Cacciafesta, P]</td>\n",
       "      <td>[NA funding agency]</td>\n",
       "      <td>0</td>\n",
       "      <td>3</td>\n",
       "      <td>0</td>\n",
       "      <td>ELSEVIER SCIENCE BV</td>\n",
       "      <td>[BRUCK, SD, [Anonymous], HEIMKE, G, DANIELS, A...</td>\n",
       "      <td>[JOHN WILEY &amp; SONS INC, ELSEVIER SCI LTD, AMER...</td>\n",
       "      <td>[Wellcome Trust, NHLBI NIH HHS [HL 39081], NCR...</td>\n",
       "    </tr>\n",
       "    <tr>\n",
       "      <th>1</th>\n",
       "      <td>7</td>\n",
       "      <td>2000</td>\n",
       "      <td>7_2000</td>\n",
       "      <td>J</td>\n",
       "      <td>Burger, J; Hummel, S; Herrmann, B</td>\n",
       "      <td>ELSEVIER SCIENCE BV</td>\n",
       "      <td>NA funding agency</td>\n",
       "      <td>PO BOX 211, 1000 AE AMSTERDAM, NETHERLANDS</td>\n",
       "      <td>6</td>\n",
       "      <td>[Burger, J,  Hummel, S,  Herrmann, B]</td>\n",
       "      <td>[NA funding agency]</td>\n",
       "      <td>0</td>\n",
       "      <td>3</td>\n",
       "      <td>0</td>\n",
       "      <td>ELSEVIER SCIENCE BV</td>\n",
       "      <td>[BRUCK, SD, [Anonymous], HEIMKE, G, DANIELS, A...</td>\n",
       "      <td>[JOHN WILEY &amp; SONS INC, ELSEVIER SCI LTD, AMER...</td>\n",
       "      <td>[Wellcome Trust, NHLBI NIH HHS [HL 39081], NCR...</td>\n",
       "    </tr>\n",
       "    <tr>\n",
       "      <th>2</th>\n",
       "      <td>11</td>\n",
       "      <td>2000</td>\n",
       "      <td>11_2000</td>\n",
       "      <td>J</td>\n",
       "      <td>Kaibara, M; Takahashi, A; Kurotobi, K; Suzuki, Y</td>\n",
       "      <td>ELSEVIER SCIENCE BV</td>\n",
       "      <td>NA funding agency</td>\n",
       "      <td>PO BOX 211, 1000 AE AMSTERDAM, NETHERLANDS</td>\n",
       "      <td>9</td>\n",
       "      <td>[Kaibara, M,  Takahashi, A,  Kurotobi, K,  Suz...</td>\n",
       "      <td>[NA funding agency]</td>\n",
       "      <td>0</td>\n",
       "      <td>4</td>\n",
       "      <td>0</td>\n",
       "      <td>ELSEVIER SCIENCE BV</td>\n",
       "      <td>[BRUCK, SD, [Anonymous], HEIMKE, G, DANIELS, A...</td>\n",
       "      <td>[JOHN WILEY &amp; SONS INC, ELSEVIER SCI LTD, AMER...</td>\n",
       "      <td>[Wellcome Trust, NHLBI NIH HHS [HL 39081], NCR...</td>\n",
       "    </tr>\n",
       "    <tr>\n",
       "      <th>3</th>\n",
       "      <td>14</td>\n",
       "      <td>2000</td>\n",
       "      <td>14_2000</td>\n",
       "      <td>J</td>\n",
       "      <td>Mano, JF; Reis, RL; Cunha, AM</td>\n",
       "      <td>JOHN WILEY &amp; SONS INC</td>\n",
       "      <td>NA funding agency</td>\n",
       "      <td>605 THIRD AVE, NEW YORK, NY 10158-0012 USA</td>\n",
       "      <td>13</td>\n",
       "      <td>[Mano, JF,  Reis, RL,  Cunha, AM]</td>\n",
       "      <td>[NA funding agency]</td>\n",
       "      <td>0</td>\n",
       "      <td>3</td>\n",
       "      <td>0</td>\n",
       "      <td>Other Publishers</td>\n",
       "      <td>[BRUCK, SD, [Anonymous], HEIMKE, G, DANIELS, A...</td>\n",
       "      <td>[JOHN WILEY &amp; SONS INC, ELSEVIER SCI LTD, AMER...</td>\n",
       "      <td>[Wellcome Trust, NHLBI NIH HHS [HL 39081], NCR...</td>\n",
       "    </tr>\n",
       "    <tr>\n",
       "      <th>4</th>\n",
       "      <td>5</td>\n",
       "      <td>2000</td>\n",
       "      <td>5_2000</td>\n",
       "      <td>J</td>\n",
       "      <td>Chrisey, DB; Pique, A; Modi, R; Wu, HD; Auyeun...</td>\n",
       "      <td>ELSEVIER SCIENCE BV</td>\n",
       "      <td>NA funding agency</td>\n",
       "      <td>PO BOX 211, 1000 AE AMSTERDAM, NETHERLANDS</td>\n",
       "      <td>8</td>\n",
       "      <td>[Chrisey, DB,  Pique, A,  Modi, R,  Wu, HD,  A...</td>\n",
       "      <td>[NA funding agency]</td>\n",
       "      <td>0</td>\n",
       "      <td>6</td>\n",
       "      <td>0</td>\n",
       "      <td>ELSEVIER SCIENCE BV</td>\n",
       "      <td>[BRUCK, SD, [Anonymous], HEIMKE, G, DANIELS, A...</td>\n",
       "      <td>[JOHN WILEY &amp; SONS INC, ELSEVIER SCI LTD, AMER...</td>\n",
       "      <td>[Wellcome Trust, NHLBI NIH HHS [HL 39081], NCR...</td>\n",
       "    </tr>\n",
       "  </tbody>\n",
       "</table>\n",
       "</div>"
      ],
      "text/plain": [
       "   Cluster_Topic    PY Topic_Year PT  \\\n",
       "0              0  2000     0_2000  J   \n",
       "1              7  2000     7_2000  J   \n",
       "2             11  2000    11_2000  J   \n",
       "3             14  2000    14_2000  J   \n",
       "4              5  2000     5_2000  J   \n",
       "\n",
       "                                                  AF                     PU  \\\n",
       "0                Jandt, KD; Finke, M; Cacciafesta, P    ELSEVIER SCIENCE BV   \n",
       "1                  Burger, J; Hummel, S; Herrmann, B    ELSEVIER SCIENCE BV   \n",
       "2   Kaibara, M; Takahashi, A; Kurotobi, K; Suzuki, Y    ELSEVIER SCIENCE BV   \n",
       "3                      Mano, JF; Reis, RL; Cunha, AM  JOHN WILEY & SONS INC   \n",
       "4  Chrisey, DB; Pique, A; Modi, R; Wu, HD; Auyeun...    ELSEVIER SCIENCE BV   \n",
       "\n",
       "                  FU                                          PA  PG  \\\n",
       "0  NA funding agency  PO BOX 211, 1000 AE AMSTERDAM, NETHERLANDS  14   \n",
       "1  NA funding agency  PO BOX 211, 1000 AE AMSTERDAM, NETHERLANDS   6   \n",
       "2  NA funding agency  PO BOX 211, 1000 AE AMSTERDAM, NETHERLANDS   9   \n",
       "3  NA funding agency  605 THIRD AVE, NEW YORK, NY 10158-0012 USA  13   \n",
       "4  NA funding agency  PO BOX 211, 1000 AE AMSTERDAM, NETHERLANDS   8   \n",
       "\n",
       "                                         All_authors All_funding_agencies  \\\n",
       "0            [Jandt, KD,  Finke, M,  Cacciafesta, P]  [NA funding agency]   \n",
       "1              [Burger, J,  Hummel, S,  Herrmann, B]  [NA funding agency]   \n",
       "2  [Kaibara, M,  Takahashi, A,  Kurotobi, K,  Suz...  [NA funding agency]   \n",
       "3                  [Mano, JF,  Reis, RL,  Cunha, AM]  [NA funding agency]   \n",
       "4  [Chrisey, DB,  Pique, A,  Modi, R,  Wu, HD,  A...  [NA funding agency]   \n",
       "\n",
       "   Have_Funding_Agency  Author_count  Funding_agency_count  \\\n",
       "0                    0             3                     0   \n",
       "1                    0             3                     0   \n",
       "2                    0             4                     0   \n",
       "3                    0             3                     0   \n",
       "4                    0             6                     0   \n",
       "\n",
       "    Squeezed_Publisher                        top_authors_in_previous_yrs  \\\n",
       "0  ELSEVIER SCIENCE BV  [BRUCK, SD, [Anonymous], HEIMKE, G, DANIELS, A...   \n",
       "1  ELSEVIER SCIENCE BV  [BRUCK, SD, [Anonymous], HEIMKE, G, DANIELS, A...   \n",
       "2  ELSEVIER SCIENCE BV  [BRUCK, SD, [Anonymous], HEIMKE, G, DANIELS, A...   \n",
       "3     Other Publishers  [BRUCK, SD, [Anonymous], HEIMKE, G, DANIELS, A...   \n",
       "4  ELSEVIER SCIENCE BV  [BRUCK, SD, [Anonymous], HEIMKE, G, DANIELS, A...   \n",
       "\n",
       "                      top_publishers_in_previous_yrs  \\\n",
       "0  [JOHN WILEY & SONS INC, ELSEVIER SCI LTD, AMER...   \n",
       "1  [JOHN WILEY & SONS INC, ELSEVIER SCI LTD, AMER...   \n",
       "2  [JOHN WILEY & SONS INC, ELSEVIER SCI LTD, AMER...   \n",
       "3  [JOHN WILEY & SONS INC, ELSEVIER SCI LTD, AMER...   \n",
       "4  [JOHN WILEY & SONS INC, ELSEVIER SCI LTD, AMER...   \n",
       "\n",
       "                  top_funding_agency_in_previous_yrs  \n",
       "0  [Wellcome Trust, NHLBI NIH HHS [HL 39081], NCR...  \n",
       "1  [Wellcome Trust, NHLBI NIH HHS [HL 39081], NCR...  \n",
       "2  [Wellcome Trust, NHLBI NIH HHS [HL 39081], NCR...  \n",
       "3  [Wellcome Trust, NHLBI NIH HHS [HL 39081], NCR...  \n",
       "4  [Wellcome Trust, NHLBI NIH HHS [HL 39081], NCR...  "
      ]
     },
     "execution_count": 45,
     "metadata": {},
     "output_type": "execute_result"
    }
   ],
   "source": [
    "new_data.head()"
   ]
  },
  {
   "cell_type": "code",
   "execution_count": 46,
   "metadata": {},
   "outputs": [
    {
     "data": {
      "text/plain": [
       "Cluster_Topic                          0\n",
       "PY                                     0\n",
       "Topic_Year                             0\n",
       "PT                                     0\n",
       "AF                                     0\n",
       "PU                                     0\n",
       "FU                                     0\n",
       "PA                                     1\n",
       "PG                                     0\n",
       "All_authors                            0\n",
       "All_funding_agencies                   0\n",
       "Have_Funding_Agency                    0\n",
       "Author_count                           0\n",
       "Funding_agency_count                   0\n",
       "Squeezed_Publisher                     0\n",
       "top_authors_in_previous_yrs           14\n",
       "top_publishers_in_previous_yrs        14\n",
       "top_funding_agency_in_previous_yrs    14\n",
       "dtype: int64"
      ]
     },
     "execution_count": 46,
     "metadata": {},
     "output_type": "execute_result"
    }
   ],
   "source": [
    "# Because 14 records are in 1972 (oldest year), thus 14 missing values in top-related features.\n",
    "new_data.isnull().sum()"
   ]
  },
  {
   "cell_type": "code",
   "execution_count": 47,
   "metadata": {},
   "outputs": [],
   "source": [
    "# Boolean feature\n",
    "def contain_top_feature(feature_name,top_feature_name,dataframe):\n",
    "    #total_len = dataframe[dataframe.PY>1999].shape[0]\n",
    "    #filtered_df = dataframe[dataframe.PY>1999]\n",
    "    #filtered_df = filtered_df.reset_index()\n",
    "    \n",
    "    total_len = dataframe.shape[0]\n",
    "    filtered_df = dataframe\n",
    "    filtered_df = filtered_df.reset_index()\n",
    "    \n",
    "    index_contain_top_feature = []\n",
    "    boolean_value = []\n",
    "    for i in range(total_len):\n",
    "        total_features = filtered_df[feature_name][i]\n",
    "        search_features = filtered_df[top_feature_name][i]\n",
    "        if type(search_features) == float:\n",
    "            index_contain_top_feature.append(i)\n",
    "            boolean_value.append(0)\n",
    "        else:\n",
    "            for feat in total_features:\n",
    "                if feat in search_features:\n",
    "                    index_contain_top_feature.append(i)\n",
    "                    boolean_value.append(1)\n",
    "                    break\n",
    "                else:\n",
    "                    continue\n",
    "    contain_top_feature_df = pd.DataFrame({'Contain_Top_'+feature_name:boolean_value},\\\n",
    "                                          index=index_contain_top_feature)\n",
    "    return contain_top_feature_df"
   ]
  },
  {
   "cell_type": "code",
   "execution_count": 48,
   "metadata": {},
   "outputs": [],
   "source": [
    "# Count multiple features\n",
    "def contain_multiple_top_feature(feature_name,top_feature_name,dataframe):\n",
    "    #total_len = dataframe[dataframe.PY>1999].shape[0]\n",
    "    #filtered_df = dataframe[dataframe.PY>1999]\n",
    "    #filtered_df = filtered_df.reset_index()\n",
    "    \n",
    "    total_len = dataframe.shape[0]\n",
    "    filtered_df = dataframe\n",
    "    filtered_df = filtered_df.reset_index()\n",
    "    \n",
    "    count_top_feature = []\n",
    "    for i in range(total_len):\n",
    "        total_features = filtered_df[feature_name][i]\n",
    "        search_features = filtered_df[top_feature_name][i]\n",
    "        if type(search_features) == float:\n",
    "            count_top_feature.append(0)\n",
    "        else:\n",
    "            total_sum = 0\n",
    "            for feat in total_features:\n",
    "                if feat in search_features:\n",
    "                    total_sum += 1\n",
    "            count_top_feature.append(total_sum)\n",
    "    \n",
    "    return count_top_feature"
   ]
  },
  {
   "cell_type": "code",
   "execution_count": 49,
   "metadata": {},
   "outputs": [],
   "source": [
    "# Top authors & funding agencies.\n",
    "contain_top_author_df = contain_top_feature(feature_name='All_authors',\n",
    "                                            top_feature_name='top_authors_in_previous_yrs',\n",
    "                                            dataframe=new_data)\n",
    "contain_top_fund_agency_df = contain_top_feature(feature_name='All_funding_agencies',\n",
    "                                            top_feature_name='top_funding_agency_in_previous_yrs',\n",
    "                                            dataframe=new_data)"
   ]
  },
  {
   "cell_type": "code",
   "execution_count": 50,
   "metadata": {},
   "outputs": [],
   "source": [
    "#target_df = new_data[new_data.PY>2000]\n",
    "target_df = new_data.reset_index()\n",
    "target_df = target_df.merge(contain_top_author_df, how='left', left_index=True, right_index=True)\n",
    "target_df = target_df.merge(contain_top_fund_agency_df, how='left', left_index=True, right_index=True)"
   ]
  },
  {
   "cell_type": "code",
   "execution_count": 51,
   "metadata": {},
   "outputs": [],
   "source": [
    "target_df.drop('index',axis=1,inplace=True)"
   ]
  },
  {
   "cell_type": "code",
   "execution_count": 52,
   "metadata": {},
   "outputs": [],
   "source": [
    "# Count of multiple funding agencies. \n",
    "# (For multiple top authors, there is always one top author. Thus, using only contain_top_author_df.\n",
    "count_mult_funding_agency_ls = contain_multiple_top_feature(feature_name='All_funding_agencies',\n",
    "                                                        top_feature_name='top_funding_agency_in_previous_yrs',\n",
    "                                                        dataframe=target_df)"
   ]
  },
  {
   "cell_type": "code",
   "execution_count": 53,
   "metadata": {},
   "outputs": [],
   "source": [
    "target_df['Count_of_top_funding_agency'] = count_mult_funding_agency_ls"
   ]
  },
  {
   "cell_type": "code",
   "execution_count": 56,
   "metadata": {},
   "outputs": [],
   "source": [
    "def contain_top_feature(feature_name,top_feature_name,dataframe):\n",
    "    #total_len = dataframe[dataframe.PY>2000].shape[0]\n",
    "    #filtered_df = dataframe[dataframe.PY>2000]\n",
    "    #filtered_df = filtered_df.reset_index()\n",
    "    \n",
    "        \n",
    "    total_len = dataframe.shape[0]\n",
    "    filtered_df = dataframe\n",
    "    filtered_df = filtered_df.reset_index()\n",
    "\n",
    "\n",
    "    index_contain_top_feature = []\n",
    "    boolean_value = []\n",
    "    for i in range(total_len):\n",
    "        total_features = filtered_df[feature_name][i]\n",
    "        search_features = filtered_df[top_feature_name][i]\n",
    "        if type(search_features) == float:\n",
    "            index_contain_top_feature.append(i)\n",
    "            boolean_value.append(0)\n",
    "        elif total_features in search_features:\n",
    "            index_contain_top_feature.append(i)\n",
    "            boolean_value.append(1)\n",
    "            \n",
    "    contain_top_feature_df = pd.DataFrame({'Contain_Top_'+feature_name:boolean_value},\\\n",
    "                                          index=index_contain_top_feature)\n",
    "    return contain_top_feature_df"
   ]
  },
  {
   "cell_type": "code",
   "execution_count": 57,
   "metadata": {},
   "outputs": [],
   "source": [
    "contain_top_publisher_df = contain_top_feature(feature_name='PU',\n",
    "                                               top_feature_name='top_publishers_in_previous_yrs',\n",
    "                                               dataframe=new_data)"
   ]
  },
  {
   "cell_type": "code",
   "execution_count": 58,
   "metadata": {},
   "outputs": [],
   "source": [
    "target_df = target_df.merge(contain_top_publisher_df, how='left', left_index=True, right_index=True)"
   ]
  },
  {
   "cell_type": "code",
   "execution_count": 59,
   "metadata": {},
   "outputs": [],
   "source": [
    "target_df['Contain_Top_All_authors'].fillna(0, inplace=True)\n",
    "target_df['Contain_Top_All_funding_agencies'].fillna(0, inplace=True)\n",
    "target_df['Contain_Top_PU'].fillna(0, inplace=True)"
   ]
  },
  {
   "cell_type": "code",
   "execution_count": 60,
   "metadata": {},
   "outputs": [
    {
     "data": {
      "text/plain": [
       "Cluster_Topic                          0\n",
       "PY                                     0\n",
       "Topic_Year                             0\n",
       "PT                                     0\n",
       "AF                                     0\n",
       "PU                                     0\n",
       "FU                                     0\n",
       "PA                                     1\n",
       "PG                                     0\n",
       "All_authors                            0\n",
       "All_funding_agencies                   0\n",
       "Have_Funding_Agency                    0\n",
       "Author_count                           0\n",
       "Funding_agency_count                   0\n",
       "Squeezed_Publisher                     0\n",
       "top_authors_in_previous_yrs           14\n",
       "top_publishers_in_previous_yrs        14\n",
       "top_funding_agency_in_previous_yrs    14\n",
       "Contain_Top_All_authors                0\n",
       "Contain_Top_All_funding_agencies       0\n",
       "Count_of_top_funding_agency            0\n",
       "Contain_Top_PU                         0\n",
       "dtype: int64"
      ]
     },
     "execution_count": 60,
     "metadata": {},
     "output_type": "execute_result"
    }
   ],
   "source": [
    "target_df.isnull().sum()"
   ]
  },
  {
   "cell_type": "code",
   "execution_count": 61,
   "metadata": {},
   "outputs": [],
   "source": [
    "# Drop off columns\n",
    "drop_cols = ['AF','PU','FU','PA','All_authors','All_funding_agencies',\\\n",
    "             'top_authors_in_previous_yrs','top_publishers_in_previous_yrs','top_funding_agency_in_previous_yrs']\n",
    "target_df.drop(drop_cols, axis=1,inplace=True)"
   ]
  },
  {
   "cell_type": "code",
   "execution_count": 62,
   "metadata": {},
   "outputs": [
    {
     "data": {
      "text/plain": [
       "Cluster_Topic                       0\n",
       "PY                                  0\n",
       "Topic_Year                          0\n",
       "PT                                  0\n",
       "PG                                  0\n",
       "Have_Funding_Agency                 0\n",
       "Author_count                        0\n",
       "Funding_agency_count                0\n",
       "Squeezed_Publisher                  0\n",
       "Contain_Top_All_authors             0\n",
       "Contain_Top_All_funding_agencies    0\n",
       "Count_of_top_funding_agency         0\n",
       "Contain_Top_PU                      0\n",
       "dtype: int64"
      ]
     },
     "execution_count": 62,
     "metadata": {},
     "output_type": "execute_result"
    }
   ],
   "source": [
    "target_df.isnull().sum()"
   ]
  },
  {
   "cell_type": "code",
   "execution_count": 63,
   "metadata": {},
   "outputs": [
    {
     "data": {
      "text/plain": [
       "(46169, 13)"
      ]
     },
     "execution_count": 63,
     "metadata": {},
     "output_type": "execute_result"
    }
   ],
   "source": [
    "target_df.shape"
   ]
  },
  {
   "cell_type": "code",
   "execution_count": 64,
   "metadata": {},
   "outputs": [
    {
     "data": {
      "text/html": [
       "<div>\n",
       "<style scoped>\n",
       "    .dataframe tbody tr th:only-of-type {\n",
       "        vertical-align: middle;\n",
       "    }\n",
       "\n",
       "    .dataframe tbody tr th {\n",
       "        vertical-align: top;\n",
       "    }\n",
       "\n",
       "    .dataframe thead th {\n",
       "        text-align: right;\n",
       "    }\n",
       "</style>\n",
       "<table border=\"1\" class=\"dataframe\">\n",
       "  <thead>\n",
       "    <tr style=\"text-align: right;\">\n",
       "      <th></th>\n",
       "      <th>Cluster_Topic</th>\n",
       "      <th>PY</th>\n",
       "      <th>Topic_Year</th>\n",
       "      <th>PT</th>\n",
       "      <th>PG</th>\n",
       "      <th>Have_Funding_Agency</th>\n",
       "      <th>Author_count</th>\n",
       "      <th>Funding_agency_count</th>\n",
       "      <th>Squeezed_Publisher</th>\n",
       "      <th>Contain_Top_All_authors</th>\n",
       "      <th>Contain_Top_All_funding_agencies</th>\n",
       "      <th>Count_of_top_funding_agency</th>\n",
       "      <th>Contain_Top_PU</th>\n",
       "    </tr>\n",
       "  </thead>\n",
       "  <tbody>\n",
       "    <tr>\n",
       "      <th>0</th>\n",
       "      <td>0</td>\n",
       "      <td>2000</td>\n",
       "      <td>0_2000</td>\n",
       "      <td>J</td>\n",
       "      <td>14</td>\n",
       "      <td>0</td>\n",
       "      <td>3</td>\n",
       "      <td>0</td>\n",
       "      <td>ELSEVIER SCIENCE BV</td>\n",
       "      <td>0.0</td>\n",
       "      <td>0.0</td>\n",
       "      <td>0</td>\n",
       "      <td>1.0</td>\n",
       "    </tr>\n",
       "    <tr>\n",
       "      <th>1</th>\n",
       "      <td>7</td>\n",
       "      <td>2000</td>\n",
       "      <td>7_2000</td>\n",
       "      <td>J</td>\n",
       "      <td>6</td>\n",
       "      <td>0</td>\n",
       "      <td>3</td>\n",
       "      <td>0</td>\n",
       "      <td>ELSEVIER SCIENCE BV</td>\n",
       "      <td>0.0</td>\n",
       "      <td>0.0</td>\n",
       "      <td>0</td>\n",
       "      <td>1.0</td>\n",
       "    </tr>\n",
       "    <tr>\n",
       "      <th>2</th>\n",
       "      <td>11</td>\n",
       "      <td>2000</td>\n",
       "      <td>11_2000</td>\n",
       "      <td>J</td>\n",
       "      <td>9</td>\n",
       "      <td>0</td>\n",
       "      <td>4</td>\n",
       "      <td>0</td>\n",
       "      <td>ELSEVIER SCIENCE BV</td>\n",
       "      <td>0.0</td>\n",
       "      <td>0.0</td>\n",
       "      <td>0</td>\n",
       "      <td>1.0</td>\n",
       "    </tr>\n",
       "    <tr>\n",
       "      <th>3</th>\n",
       "      <td>14</td>\n",
       "      <td>2000</td>\n",
       "      <td>14_2000</td>\n",
       "      <td>J</td>\n",
       "      <td>13</td>\n",
       "      <td>0</td>\n",
       "      <td>3</td>\n",
       "      <td>0</td>\n",
       "      <td>Other Publishers</td>\n",
       "      <td>0.0</td>\n",
       "      <td>0.0</td>\n",
       "      <td>0</td>\n",
       "      <td>1.0</td>\n",
       "    </tr>\n",
       "    <tr>\n",
       "      <th>4</th>\n",
       "      <td>5</td>\n",
       "      <td>2000</td>\n",
       "      <td>5_2000</td>\n",
       "      <td>J</td>\n",
       "      <td>8</td>\n",
       "      <td>0</td>\n",
       "      <td>6</td>\n",
       "      <td>0</td>\n",
       "      <td>ELSEVIER SCIENCE BV</td>\n",
       "      <td>0.0</td>\n",
       "      <td>0.0</td>\n",
       "      <td>0</td>\n",
       "      <td>1.0</td>\n",
       "    </tr>\n",
       "  </tbody>\n",
       "</table>\n",
       "</div>"
      ],
      "text/plain": [
       "   Cluster_Topic    PY Topic_Year PT  PG  Have_Funding_Agency  Author_count  \\\n",
       "0              0  2000     0_2000  J  14                    0             3   \n",
       "1              7  2000     7_2000  J   6                    0             3   \n",
       "2             11  2000    11_2000  J   9                    0             4   \n",
       "3             14  2000    14_2000  J  13                    0             3   \n",
       "4              5  2000     5_2000  J   8                    0             6   \n",
       "\n",
       "   Funding_agency_count   Squeezed_Publisher  Contain_Top_All_authors  \\\n",
       "0                     0  ELSEVIER SCIENCE BV                      0.0   \n",
       "1                     0  ELSEVIER SCIENCE BV                      0.0   \n",
       "2                     0  ELSEVIER SCIENCE BV                      0.0   \n",
       "3                     0     Other Publishers                      0.0   \n",
       "4                     0  ELSEVIER SCIENCE BV                      0.0   \n",
       "\n",
       "   Contain_Top_All_funding_agencies  Count_of_top_funding_agency  \\\n",
       "0                               0.0                            0   \n",
       "1                               0.0                            0   \n",
       "2                               0.0                            0   \n",
       "3                               0.0                            0   \n",
       "4                               0.0                            0   \n",
       "\n",
       "   Contain_Top_PU  \n",
       "0             1.0  \n",
       "1             1.0  \n",
       "2             1.0  \n",
       "3             1.0  \n",
       "4             1.0  "
      ]
     },
     "execution_count": 64,
     "metadata": {},
     "output_type": "execute_result"
    }
   ],
   "source": [
    "target_df.head()"
   ]
  },
  {
   "cell_type": "code",
   "execution_count": null,
   "metadata": {},
   "outputs": [],
   "source": [
    "target_df.to_csv('final_data.csv',index=False)"
   ]
  },
  {
   "cell_type": "code",
   "execution_count": null,
   "metadata": {},
   "outputs": [],
   "source": []
  }
 ],
 "metadata": {
  "kernelspec": {
   "display_name": "Python 3",
   "language": "python",
   "name": "python3"
  },
  "language_info": {
   "codemirror_mode": {
    "name": "ipython",
    "version": 3
   },
   "file_extension": ".py",
   "mimetype": "text/x-python",
   "name": "python",
   "nbconvert_exporter": "python",
   "pygments_lexer": "ipython3",
   "version": "3.6.7"
  }
 },
 "nbformat": 4,
 "nbformat_minor": 2
}
