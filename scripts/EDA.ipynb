{
 "cells": [
  {
   "cell_type": "code",
   "execution_count": 1,
   "metadata": {},
   "outputs": [],
   "source": [
    "import pandas as pd\n"
   ]
  },
  {
   "cell_type": "code",
   "execution_count": 3,
   "metadata": {},
   "outputs": [
    {
     "name": "stderr",
     "output_type": "stream",
     "text": [
      "C:\\Users\\lin\\Anaconda3\\lib\\site-packages\\IPython\\core\\interactiveshell.py:2785: DtypeWarning: Columns (2,6,56,65,66) have mixed types. Specify dtype option on import or set low_memory=False.\n",
      "  interactivity=interactivity, compiler=compiler, result=result)\n"
     ]
    }
   ],
   "source": [
    "df = pd.read_csv('../data/raw_data/all.csv')"
   ]
  },
  {
   "cell_type": "code",
   "execution_count": 6,
   "metadata": {},
   "outputs": [
    {
     "data": {
      "text/plain": [
       "J    42533\n",
       "S     2296\n",
       "B      805\n",
       "Name: PT, dtype: int64"
      ]
     },
     "execution_count": 6,
     "metadata": {},
     "output_type": "execute_result"
    }
   ],
   "source": [
    "df.PT.value_counts()"
   ]
  },
  {
   "cell_type": "code",
   "execution_count": 10,
   "metadata": {},
   "outputs": [],
   "source": [
    "df = df.reset_index()"
   ]
  },
  {
   "cell_type": "code",
   "execution_count": 13,
   "metadata": {},
   "outputs": [],
   "source": [
    "df = df.drop(['index'],axis=1)"
   ]
  },
  {
   "cell_type": "code",
   "execution_count": 17,
   "metadata": {},
   "outputs": [],
   "source": [
    "df = df.drop_duplicates()"
   ]
  },
  {
   "cell_type": "code",
   "execution_count": 18,
   "metadata": {},
   "outputs": [
    {
     "data": {
      "text/plain": [
       "(45134, 68)"
      ]
     },
     "execution_count": 18,
     "metadata": {},
     "output_type": "execute_result"
    }
   ],
   "source": [
    "df.shape"
   ]
  },
  {
   "cell_type": "code",
   "execution_count": 28,
   "metadata": {
    "scrolled": false
   },
   "outputs": [
    {
     "data": {
      "text/plain": [
       "0        SENSITIVE COPOLYMER MICELLES; LINEAR-DENDRITIC...\n",
       "1        MECHANICAL-PROPERTIES; INTERNAL-FIXATION; BONE...\n",
       "2        JANUS PARTICLES; POLYMER-COATINGS; DRUG-DELIVE...\n",
       "3        IN-VITRO; ANTIMICROBIAL EFFICACY; COATINGS; TI...\n",
       "4        TARGETED DRUG-DELIVERY; PARTICLE-SIZE; COMPOSI...\n",
       "5        Y-TYPE ZEOLITES; GENE-EXPRESSION; IN-VITRO; CO...\n",
       "6        FREE-RADICAL POLYMERIZATION; AMPHIPHILIC BLOCK...\n",
       "7        DRUG-DELIVERY; POLYMERIC NANOPARTICLES; DESIGN...\n",
       "8        PULSED-LASER DEPOSITION; THIN-FILMS; MECHANICA...\n",
       "9        PH-SENSITIVE HYDROGELS; TISSUE-ENGINEERING SCA...\n",
       "10       BELOUSOV-ZHABOTINSKY REACTION; SOLUBLE-INSOLUB...\n",
       "11                                    THROMBOSIS; DELIVERY\n",
       "12       FOREIGN-BODY REACTION; MASS-SPECTROMETRY; CELL...\n",
       "13       PROTEIN-ADSORPTION; SCAFFOLDS; ADHESION; POLY(...\n",
       "14       POLYMERIC BIOCIDES; POLYESTER; CELLULOSE; FABR...\n",
       "15       TYROSINE-DERIVED POLYCARBONATES; INTEGRIN EXPR...\n",
       "16       SMALL-INTESTINAL SUBMUCOSA; ENDOTHELIAL GROWTH...\n",
       "17       BIODEGRADABLE ELASTOMERS; BEHAVIOR; STAR-POLY(...\n",
       "18       BOMBYX-MORI SILK; BEHAVIOR; APATITE; MICROSTRU...\n",
       "19       T-CELL; ALVEOLAR MACROPHAGES; BREAST IMPLANTS;...\n",
       "20       PANCREATIC BETA-CELLS; NITRIC-OXIDE SYNTHASE; ...\n",
       "21       SOL-GEL PROCESS; MOLECULAR-SIEVES; SILICA; MIN...\n",
       "22       CRYSTALLINE CALCIUM-CARBONATE; HIGH-PRESSURE; ...\n",
       "23                                                     NaN\n",
       "24       TISSUE ENGINEERING APPLICATIONS; SURFACE MODIF...\n",
       "25       INTERNAL-PHASE EMULSIONS; SOLUBLE POROGENIC SO...\n",
       "26       MECHANICAL-PROPERTIES; HYDROGELS; BIOMATERIALS...\n",
       "27       SELF-ASSEMBLED MONOLAYERS; PLASMON RESONANCE; ...\n",
       "28       PROTEIN-RESISTANT BIOMATERIALS; MICHAEL-TYPE A...\n",
       "29                                                     NaN\n",
       "                               ...                        \n",
       "45604    ENDOGENOUS HYDROGEN-PEROXIDE; MN(II) OXIDATION...\n",
       "45605    IN-VITRO; ZN CONCENTRATION; MG; BEHAVIOR; BIOD...\n",
       "45606    RELEASE BEHAVIOR; POLYMER; HYDROXYAPATITE; NAN...\n",
       "45607    STEM-CELLS; VITILIGO; FIBRONECTIN; MEMBRANES; ...\n",
       "45608    PROTEIN-ADSORPTION; TITANIUM; OSSEOINTEGRATION...\n",
       "45609    NEGATIVE POISSONS RATIO; MECHANICAL METAMATERI...\n",
       "45610    QUARTZ-CRYSTAL MICROBALANCE; CHROMOGRANIN-A; I...\n",
       "45611    MECHANICAL-PROPERTIES; EXTRACELLULAR-MATRIX; K...\n",
       "45612    CELL/HYDROGEL CONSTRUCT; DECELLULARIZED MATRIX...\n",
       "45613    INTERNAL-FIXATION; OSTEOBLAST DIFFERENTIATION;...\n",
       "45614    BETA-TRICALCIUM PHOSPHATE; MESENCHYMAL STEM-CE...\n",
       "45615    SOLAR-CELLS; COMPOSITE ELECTRODES; CARBON NANO...\n",
       "45616    AMINO-ACID-RESIDUES; PATTERN-RECOGNITION RECEP...\n",
       "45617    AMIDE-I-BAND; MECHANICAL-PROPERTIES; COLLAGEN;...\n",
       "45618    ALPHA-TOCOPHEROL PRODUCTION; WAX ESTER FERMENT...\n",
       "45619                               PURIFICATION; PROTEASE\n",
       "45620    CROSS-LINKING; NETWORK; NANOPARTICLES; DELIVER...\n",
       "45621    THERMOPLASTIC STARCH; MOLECULAR-STRUCTURE; AMY...\n",
       "45622    NF-KAPPA-B; BONE-GRAFT; FIBRIN; DEFECTS; EXPRE...\n",
       "45623    MESOPOROUS SILICA NANOPARTICLES; EXPERIMENTAL ...\n",
       "45624    MECHANICAL-PROPERTIES; NONLINEAR ELASTICITY; B...\n",
       "45625    OXIDATIVE STRESS; MOLECULAR-MECHANISMS; KEAP1-...\n",
       "45626       TITANIUM SURFACE; BONE INTEGRATION; TOPOGRAPHY\n",
       "45627    PLURIPOTENT STEM-CELLS; HUMAN BRAIN; EXTRACELL...\n",
       "45628    PROBING ATTACHMENT LOSS; PERIODONTAL PROBE; SU...\n",
       "45629    HUMAN HAIR KERATIN; BIOMATERIALS; CHITOSAN; RE...\n",
       "45630    VEIN ENDOTHELIAL-CELLS; CROSS-LINKED HYDROGEL;...\n",
       "45631    FLUID SHEAR-STRESS; EXTRACTION SOCKETS; MECHAN...\n",
       "45632    EPIDURAL ABSCESS; VERTEBRAL OSTEOMYELITIS; STA...\n",
       "45633    FIBER/POLYLACTIC ACID BIOCOMPOSITES; POLY LACT...\n",
       "Name: ID, Length: 45134, dtype: object"
      ]
     },
     "execution_count": 28,
     "metadata": {},
     "output_type": "execute_result"
    }
   ],
   "source": [
    "df['ID']"
   ]
  },
  {
   "cell_type": "code",
   "execution_count": 27,
   "metadata": {},
   "outputs": [
    {
     "data": {
      "text/plain": [
       "0                                                      NaN\n",
       "1         Hydroxyapatite fiber; chitosan; bending strength\n",
       "2                                                      NaN\n",
       "3        Polyetheretherketone (PEEK); Titanium dioxide;...\n",
       "4                                                      NaN\n",
       "5                                                      NaN\n",
       "6                                                      NaN\n",
       "7        biomimetic; drug delivery; erythrocyte; imagin...\n",
       "8        Calcium phosphate coatings; RF magnetron sputt...\n",
       "9        Responsive hydrogels; Intelligent therapeutics...\n",
       "10       Polymer gels; Smart materials; Self-oscillatio...\n",
       "11       Kallikrein; Iron oxide; Nanoparticles; Plasma;...\n",
       "12                                                     NaN\n",
       "13       biodegradable; biocompatibility; biological ap...\n",
       "14                      polyesters; biomaterials; coatings\n",
       "15       mesenchymal stem cell; polycarbonates; polyeth...\n",
       "16       biologic scaffold material; extracellular matr...\n",
       "17            elastomer; tissue engineering; biodegradable\n",
       "18       silk fibrion; biomineralization; apatite; scaf...\n",
       "19       biomaterials; lymphocyte activation; adhesion;...\n",
       "20       alginate; encapsulation; nitric oxide inflamma...\n",
       "21              Bioglass; Biomaterials; Solution chemistry\n",
       "22       Biomaterials; Natural glasses; Pressure effect...\n",
       "23                                  Bioglass; Biomaterials\n",
       "24       additive manufacturing technology; biocompatib...\n",
       "25       biomaterials; degradation; foams; polyacrylate...\n",
       "26       biomaterials; bone tissue engineering; gelatin...\n",
       "27                                                     NaN\n",
       "28                                                     NaN\n",
       "29                                                     NaN\n",
       "                               ...                        \n",
       "45604    Roseobacter; biomineralization; metal recovery...\n",
       "45605    biomaterial; corrosion properties; cytotoxicit...\n",
       "45606    chitosan; nanohybrids; hydrogel; scaffold; con...\n",
       "45607             Chitosan; Melanocytes; Polyvinyl alcohol\n",
       "45608    Biomaterials; Titanium dioxide; Adsorption ene...\n",
       "45609    Lattice structures; Unit cell; Hyper-elasticit...\n",
       "45610                                                  NaN\n",
       "45611    Polarimetry; Medical optics instrumentation; N...\n",
       "45612    bioartificial organ manufacturing; biomaterial...\n",
       "45613    Poly-L-lactide; uncalcined and unsintered hydr...\n",
       "45614    Additive manufacturing; 3D bioprinting; Bone r...\n",
       "45615    Nanowire; polymer; nanocomposite; solar cell; ...\n",
       "45616    amyloid; biosensors; nanovaccines; peptides; s...\n",
       "45617    biopolymer; infrared spectroscopy; mechanical ...\n",
       "45618    Euglena; Paramylon; Tocopherol; Carotenoids; T...\n",
       "45619    Tenodera angustipennis; Praying mantis; HSV-1 ...\n",
       "45620                                                  NaN\n",
       "45621    bentonite; biomaterials; retrogradation; struc...\n",
       "45622    apoptosis; biomaterials; bone regeneration; os...\n",
       "45623    Dental restorations; Resin composite; Dental a...\n",
       "45624    Enamel; Nanoindentation; Mechanical properties...\n",
       "45625            Transcriptomics; HEMA; Electrophile; Nrf2\n",
       "45626    Surface properties; Surface roughness; Surface...\n",
       "45627    astrocyte; astrogliosis; pluripotent stem cell...\n",
       "45628    bone regeneration; compaction; instrument; com...\n",
       "45629                                                  NaN\n",
       "45630                                                  NaN\n",
       "45631    Scaffold; Finite element method; Titanium diox...\n",
       "45632    anterior cervical procedures; cervical spondyl...\n",
       "45633    Polylactide; cellulosic fibers; nanoclays; bio...\n",
       "Name: DE, Length: 45134, dtype: object"
      ]
     },
     "execution_count": 27,
     "metadata": {},
     "output_type": "execute_result"
    }
   ],
   "source": [
    "df['DE']"
   ]
  },
  {
   "cell_type": "code",
   "execution_count": null,
   "metadata": {},
   "outputs": [],
   "source": []
  }
 ],
 "metadata": {
  "kernelspec": {
   "display_name": "Python 3",
   "language": "python",
   "name": "python3"
  }
 },
 "nbformat": 4,
 "nbformat_minor": 2
}
