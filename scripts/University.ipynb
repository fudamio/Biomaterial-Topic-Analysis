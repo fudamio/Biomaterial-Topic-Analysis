{
 "cells": [
  {
   "cell_type": "code",
   "execution_count": 3,
   "metadata": {},
   "outputs": [],
   "source": [
    "import pandas as pd\n",
    "import universities "
   ]
  },
  {
   "cell_type": "code",
   "execution_count": 6,
   "metadata": {},
   "outputs": [
    {
     "name": "stderr",
     "output_type": "stream",
     "text": [
      "C:\\Users\\lin\\Anaconda3\\lib\\site-packages\\IPython\\core\\interactiveshell.py:2785: DtypeWarning: Columns (2,6,56,65,66) have mixed types. Specify dtype option on import or set low_memory=False.\n",
      "  interactivity=interactivity, compiler=compiler, result=result)\n"
     ]
    }
   ],
   "source": [
    "df = pd.read_csv('../data/raw_data/all.csv')\n",
    "# Because journal rank and country rank data are only available between 2000 and 2017\n",
    "df= df[(df['PY'] >=2000) &(df['PY'] <=2017)]"
   ]
  },
  {
   "cell_type": "code",
   "execution_count": 7,
   "metadata": {},
   "outputs": [
    {
     "name": "stderr",
     "output_type": "stream",
     "text": [
      "C:\\Users\\lin\\Anaconda3\\lib\\site-packages\\ipykernel_launcher.py:6: SettingWithCopyWarning: \n",
      "A value is trying to be set on a copy of a slice from a DataFrame.\n",
      "Try using .loc[row_indexer,col_indexer] = value instead\n",
      "\n",
      "See the caveats in the documentation: http://pandas.pydata.org/pandas-docs/stable/indexing.html#indexing-view-versus-copy\n",
      "  \n"
     ]
    }
   ],
   "source": [
    "#fill nan with Unknown@Unknown and create mark if the email address is an edu email\n",
    "df['EM'] = df['EM'].fillna('Unknown@Unknown')\n",
    "#Only select EM PY Topic\n",
    "edu = df[['EM','PY']]\n",
    "#Extract institution name from email address\n",
    "edu['Institution'] = edu['EM'].apply(lambda x: ','.join([email.split('@')[1] for email in x.split(';')]))\n",
    "edu = edu[['PY','Institution']]\n",
    "#Because some records contains more than one email address, expand them to multiple rows\n",
    "# edu = edu.set_index('PY').stack().str.split(',', expand=True).stack().reset_index(-1,drop=True)\\\n",
    "# .reset_index().rename(columns = {0:'Institution'})"
   ]
  },
  {
   "cell_type": "code",
   "execution_count": 10,
   "metadata": {},
   "outputs": [
    {
     "data": {
      "text/plain": [
       "0                  uwo.ca\n",
       "1          home.ipe.ac.cn\n",
       "2               umich.edu\n",
       "3             seed.net.tw\n",
       "4    engineering.ucsb.edu\n",
       "Name: Institution, dtype: object"
      ]
     },
     "execution_count": 10,
     "metadata": {},
     "output_type": "execute_result"
    }
   ],
   "source": [
    "edu['Institution'][:5]"
   ]
  },
  {
   "cell_type": "code",
   "execution_count": 39,
   "metadata": {},
   "outputs": [
    {
     "data": {
      "text/plain": [
       "PT                                                    J\n",
       "AU                               Dewit, MA; Gillies, ER\n",
       "BA                                                  NaN\n",
       "BE                                                  NaN\n",
       "GP                                                  NaN\n",
       "AF             DeWit, Matthew A.; Gillies, Elizabeth R.\n",
       "BF                                                  NaN\n",
       "CA                                                  NaN\n",
       "TI    A Cascade Biodegradable Polymer Based on Alter...\n",
       "SO             JOURNAL OF THE AMERICAN CHEMICAL SOCIETY\n",
       "SE                                                  NaN\n",
       "BS                                                  NaN\n",
       "LA                                              English\n",
       "DT                                              Article\n",
       "CT                                                  NaN\n",
       "CY                                                  NaN\n",
       "CL                                                  NaN\n",
       "SP                                                  NaN\n",
       "HO                                                  NaN\n",
       "DE                                                  NaN\n",
       "ID    SENSITIVE COPOLYMER MICELLES; LINEAR-DENDRITIC...\n",
       "AB    Polymers that depolymerize by a cascade of int...\n",
       "C1    [DeWit, Matthew A.; Gillies, Elizabeth R.] Uni...\n",
       "RP    Gillies, ER (reprint author), Univ Western Ont...\n",
       "EM                                       egillie@uwo.ca\n",
       "RI                       Gillies, Elizabeth/E-4333-2015\n",
       "OI                                                  NaN\n",
       "FU    Natural Sciences and Engineering Council of Ca...\n",
       "FX    We thank the Natural Sciences and Engineering ...\n",
       "CR                                                  NaN\n",
       "                            ...                        \n",
       "SN                                            0002-7863\n",
       "EI                                                  NaN\n",
       "BN                                                  NaN\n",
       "J9                                        J AM CHEM SOC\n",
       "JI                                    J. Am. Chem. Soc.\n",
       "PD                                               DEC 30\n",
       "PY                                                 2009\n",
       "VL                                                  131\n",
       "IS                                                   51\n",
       "PN                                                  NaN\n",
       "SU                                                  NaN\n",
       "SI                                                  NaN\n",
       "MA                                                  NaN\n",
       "BP                                                18327\n",
       "EP                                                18334\n",
       "AR                                                  NaN\n",
       "DI                                    10.1021/ja905343x\n",
       "D2                                                  NaN\n",
       "EA                                                  NaN\n",
       "EY                                                  NaN\n",
       "PG                                                    8\n",
       "WC                         Chemistry, Multidisciplinary\n",
       "SC                                            Chemistry\n",
       "GA                                                543YA\n",
       "UT                                  WOS:000273615800044\n",
       "PM                                          1.99509e+07\n",
       "OA                                                  NaN\n",
       "HC                                                  NaN\n",
       "HP                                                  NaN\n",
       "DA                                           2019-02-25\n",
       "Name: 0, Length: 68, dtype: object"
      ]
     },
     "execution_count": 39,
     "metadata": {},
     "output_type": "execute_result"
    }
   ],
   "source": [
    "df.loc[0]"
   ]
  },
  {
   "cell_type": "code",
   "execution_count": null,
   "metadata": {},
   "outputs": [],
   "source": []
  }
 ],
 "metadata": {
  "kernelspec": {
   "display_name": "Python 3",
   "language": "python",
   "name": "python3"
  },
  "language_info": {
   "codemirror_mode": {
    "name": "ipython",
    "version": 3
   },
   "file_extension": ".py",
   "mimetype": "text/x-python",
   "name": "python",
   "nbconvert_exporter": "python",
   "pygments_lexer": "ipython3",
   "version": "3.5.4"
  }
 },
 "nbformat": 4,
 "nbformat_minor": 2
}
