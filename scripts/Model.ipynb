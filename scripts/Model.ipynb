{
 "cells": [
  {
   "cell_type": "code",
   "execution_count": 13,
   "metadata": {},
   "outputs": [],
   "source": [
    "import pandas as pd\n",
    "import numpy as np\n",
    "from sklearn.preprocessing import OneHotEncoder\n",
    "from sklearn import preprocessing\n",
    "import pandas as pd\n",
    "import numpy as np\n",
    "import seaborn as sns\n",
    "import matplotlib.pyplot as plt\n",
    "from subprocess import check_output\n",
    "import csv\n",
    "import re\n",
    "from sklearn.preprocessing import LabelEncoder\n",
    "from sklearn.model_selection import train_test_split\n",
    "from sklearn.ensemble import RandomForestClassifier\n",
    "from sklearn.calibration import CalibratedClassifierCV\n",
    "from sklearn.model_selection import GridSearchCV\n",
    "from sklearn.model_selection import StratifiedKFold\n",
    "from sklearn.feature_selection import SelectFromModel\n",
    "from sklearn.linear_model import LogisticRegression\n",
    "from sklearn.metrics import classification_report, f1_score, accuracy_score, confusion_matrix\n",
    "from sklearn.svm import SVC\n",
    "from sklearn import cross_validation\n",
    "from sklearn.naive_bayes import GaussianNB\n",
    "from sklearn.neighbors import KNeighborsClassifier\n",
    "from sklearn import metrics\n",
    "from sklearn.tree import DecisionTreeClassifier\n",
    "from sklearn import tree\n",
    "from sklearn.metrics import accuracy_score\n",
    "from sklearn.metrics import roc_auc_score\n",
    "from sklearn.ensemble import AdaBoostClassifier\n",
    "%matplotlib inline"
   ]
  },
  {
   "cell_type": "code",
   "execution_count": 14,
   "metadata": {},
   "outputs": [],
   "source": [
    "group_data = pd.read_csv('../output/result.csv')\n",
    "specific_data = pd.read_csv('../output/final_data.csv')"
   ]
  },
  {
   "cell_type": "code",
   "execution_count": 15,
   "metadata": {},
   "outputs": [],
   "source": [
    "# Merge two datasets into one by key 'Topic_Year'\n",
    "final_data = group_data.merge(specific_data, how='right', on='Topic_Year')"
   ]
  },
  {
   "cell_type": "code",
   "execution_count": 16,
   "metadata": {},
   "outputs": [],
   "source": [
    "del group_data\n",
    "del specific_data"
   ]
  },
  {
   "cell_type": "code",
   "execution_count": 17,
   "metadata": {},
   "outputs": [],
   "source": [
    "# Filter data after year 2000\n",
    "final_data = final_data[(final_data.PY >= 2004) & (final_data.PY < 2019)]\n",
    "final_data.drop(columns=['PY','Cluster_Topic'], inplace=True)"
   ]
  },
  {
   "cell_type": "code",
   "execution_count": 18,
   "metadata": {},
   "outputs": [],
   "source": [
    "# Missing data imputation by replacing median values\n",
    "missing_cols = []\n",
    "for col in final_data.columns:\n",
    "    if final_data[col].isnull().sum() != 0:\n",
    "        missing_cols.append(col)\n",
    "for missing_col in missing_cols:\n",
    "    final_data[missing_col].fillna(np.nanmedian(final_data[missing_col]), inplace=True)\n",
    "    \n",
    "final_data.drop(columns=['Year','Topic','Topic_Year','Growth_Rate','Year_Growth_Rate'], inplace=True)"
   ]
  },
  {
   "cell_type": "code",
   "execution_count": 19,
   "metadata": {},
   "outputs": [],
   "source": [
    "le = preprocessing.LabelEncoder()\n",
    "final_data['Squeezed_Publisher'] = le.fit_transform(final_data['Squeezed_Publisher'])"
   ]
  },
  {
   "cell_type": "code",
   "execution_count": 20,
   "metadata": {},
   "outputs": [],
   "source": [
    "final_data['PT'] = le.fit_transform(final_data['PT'])"
   ]
  },
  {
   "cell_type": "code",
   "execution_count": 21,
   "metadata": {},
   "outputs": [],
   "source": [
    "def get_acu_with_prob(df):\n",
    "    y = df['Target'].values\n",
    "    df = df.drop(['Target'],axis=1)\n",
    "    X = df.values\n",
    "    Xtrain, Xtest, ytrain, ytest = train_test_split(X, y, test_size=0.10, random_state=2)\n",
    "    #####\n",
    "    radm = RandomForestClassifier(n_estimators=1000,\n",
    "                                  max_depth=None,\n",
    "                                  min_samples_split=10,\n",
    "                                  class_weight=\"balanced\",\n",
    "                                  random_state=2).fit(Xtrain, ytrain)\n",
    "    y_val_1 = radm.predict_proba(Xtest)\n",
    "    fpr_1, tpr_1, thresholds_1 = metrics.roc_curve(ytest, pd.DataFrame(y_val_1)[1].values, pos_label=1)\n",
    "    radm_roc_auc = roc_auc_score(ytest, radm.predict(Xtest))\n",
    "    print(\"Random Forest Validation accuracy: \", sum(pd.DataFrame(y_val_1).idxmax(axis=1).values\n",
    "                                       == ytest)/len(ytest))\n",
    "    print ('auc:', metrics.auc(fpr_1, tpr_1))\n",
    "    #####\n",
    "\n",
    "    log_reg = LogisticRegression().fit(Xtrain, ytrain)\n",
    "    y_val_2 = log_reg.predict_proba(Xtest)\n",
    "    fpr_2, tpr_2, thresholds_2 = metrics.roc_curve(ytest, pd.DataFrame(y_val_2)[1].values, pos_label=1)\n",
    "    log_roc_auc = roc_auc_score(ytest, log_reg.predict(Xtest))\n",
    "    print(\"Logistic Regression Validation accuracy: \", sum(pd.DataFrame(y_val_2).idxmax(axis=1).values\n",
    "                                       == ytest)/len(ytest))\n",
    "    print ('auc:', metrics.auc(fpr_2, tpr_2))\n",
    "    #####\n",
    "    gnb = GaussianNB().fit(Xtrain,ytrain)\n",
    "    y_val_3 = gnb.predict(Xtest)\n",
    "    fpr_3, tpr_3, thresholds_3 = metrics.roc_curve(ytest, y_val_3, pos_label=1)\n",
    "    gnb_roc_auc = roc_auc_score(ytest, gnb.predict(Xtest))\n",
    "    print(\"Naive Bayes Validation accuracy: \", sum(y_val_3==ytest)/len(ytest))\n",
    "    print ('auc:', metrics.auc(fpr_3, tpr_3))\n",
    "    #####\n",
    "    kNN = KNeighborsClassifier(n_neighbors=25).fit(Xtrain, ytrain)\n",
    "    y_val_4 = kNN.predict(Xtest)\n",
    "    y_prob_4 = kNN.predict_proba(Xtest)\n",
    "    fpr_4, tpr_4, thresholds_4 = metrics.roc_curve(ytest, pd.DataFrame(y_prob_4)[1].values, pos_label=1)\n",
    "    acu =  sum(y_val_4==ytest)/len(ytest)\n",
    "    kNN_roc_auc = roc_auc_score(ytest, kNN.predict(Xtest))\n",
    "    print(\"kNN Validation accuracy: \",acu)\n",
    "    print ('auc:', metrics.auc(fpr_4, tpr_4))\n",
    "    ####\n",
    "#     svm = SVC(C=249,kernel='rbf',probability = True).fit(Xtrain,ytrain)\n",
    "#     val_5 = svm.predict(Xtest)\n",
    "#     val_prob_5 = svm.predict_proba(Xtest)\n",
    "#     fpr_5, tpr_5, thresholds_5 = metrics.roc_curve(ytest, pd.DataFrame(val_prob_5)[1].values, pos_label=1)\n",
    "#     svm_roc_auc = roc_auc_score(ytest, svm.predict(Xtest))\n",
    "#     print(\"SVM Validation accuracy: \", sum(val_5==ytest)/len(ytest))\n",
    "#     print ('auc:', metrics.auc(fpr_5, tpr_5))\n",
    "    ####\n",
    "    ada = AdaBoostClassifier(n_estimators=400, learning_rate=0.1).fit(Xtrain,ytrain)\n",
    "    ada_roc_auc = roc_auc_score(ytest, ada.predict(Xtest))\n",
    "    val_6 = ada.predict(Xtest)\n",
    "    val_prob_6 = ada.predict_proba(Xtest)\n",
    "    fpr_6, tpr_6, thresholds_6 = metrics.roc_curve(ytest, pd.DataFrame(val_prob_6)[1], pos_label=1)\n",
    "    ada_roc_auc = roc_auc_score(ytest, ada.predict(Xtest))\n",
    "    print(\"ADA Validation accuracy: \", sum(val_6==ytest)/len(ytest))\n",
    "    print(\"AdaBoost AUC = %2.2f\" % ada_roc_auc)\n",
    "    \n",
    "    \n",
    "    \n",
    "\n",
    "    plt.figure()\n",
    "\n",
    "    # Plot Random Forest ROC\n",
    "    plt.plot(fpr_1, tpr_1, label='Random Forest (area = %0.2f)' % metrics.auc(fpr_1, tpr_1))\n",
    "\n",
    "    # Plot Logistic Regression ROC\n",
    "    plt.plot(fpr_2, tpr_2, label=' (Logistic Regression area = %0.2f)' % metrics.auc(fpr_2, tpr_2))\n",
    "\n",
    "    \n",
    "    # Plot kNN ROC\n",
    "    plt.plot(fpr_4, tpr_4, label='KNN (area = %0.2f)' % metrics.auc(fpr_4, tpr_4))\n",
    "    \n",
    "#     # Plot SVM ROC\n",
    "#     plt.plot(fpr_5, tpr_5, label='SVM (area = %0.2f)' % metrics.auc(fpr_5, tpr_5))\n",
    "    \n",
    "    # Plot ADA ROC\n",
    "    plt.plot(fpr_6, tpr_6, label='ada (area = %0.2f)' % metrics.auc(fpr_6, tpr_6))\n",
    "\n",
    "    # Plot Base Rate ROC\n",
    "    plt.plot([0,1], [0,1],label='Base Rate' 'k--')\n",
    "\n",
    "    plt.xlim([0.0, 1.0])\n",
    "    plt.ylim([0.0, 1.05])\n",
    "    plt.xlabel('False Positive Rate')\n",
    "    plt.ylabel('True Positive Rate')\n",
    "    plt.title('ROC Graph')\n",
    "    plt.legend(loc=\"lower right\")\n",
    "    plt.show()"
   ]
  },
  {
   "cell_type": "code",
   "execution_count": 22,
   "metadata": {},
   "outputs": [
    {
     "name": "stdout",
     "output_type": "stream",
     "text": [
      "Random Forest Validation accuracy:  1.0\n",
      "auc: 1.0\n",
      "Logistic Regression Validation accuracy:  0.8421318514776459\n",
      "auc: 0.9118652504537345\n",
      "Naive Bayes Validation accuracy:  0.6342510735034099\n",
      "auc: 0.6349038542536164\n",
      "kNN Validation accuracy:  1.0\n",
      "auc: 1.0\n",
      "ADA Validation accuracy:  0.9161404395049255\n",
      "AdaBoost AUC = 0.92\n"
     ]
    },
    {
     "data": {
      "image/png": "[encoded data removed]",
      "text/plain": [
       "<matplotlib.figure.Figure at 0x23511f7b080>"
      ]
     },
     "metadata": {},
     "output_type": "display_data"
    }
   ],
   "source": [
    "get_acu_with_prob(final_data)"
   ]
  },
  {
   "cell_type": "code",
   "execution_count": null,
   "metadata": {},
   "outputs": [],
   "source": []
  }
 ],
 "metadata": {
  "kernelspec": {
   "display_name": "Python 3",
   "language": "python",
   "name": "python3"
  },
  "language_info": {
   "codemirror_mode": {
    "name": "ipython",
    "version": 3
   },
   "file_extension": ".py",
   "mimetype": "text/x-python",
   "name": "python",
   "nbconvert_exporter": "python",
   "pygments_lexer": "ipython3",
   "version": "3.5.4"
  }
 },
 "nbformat": 4,
 "nbformat_minor": 2
}
